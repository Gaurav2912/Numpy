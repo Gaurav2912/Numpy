{
  "nbformat": 4,
  "nbformat_minor": 0,
  "metadata": {
    "colab": {
      "provenance": [],
      "authorship_tag": "ABX9TyPuv42zos/B8H5YSy2Wqf82",
      "include_colab_link": true
    },
    "kernelspec": {
      "name": "python3",
      "display_name": "Python 3"
    },
    "language_info": {
      "name": "python"
    }
  },
  "cells": [
    {
      "cell_type": "markdown",
      "metadata": {
        "id": "view-in-github",
        "colab_type": "text"
      },
      "source": [
        "<a href=\"https://colab.research.google.com/github/Gaurav2912/Numpy/blob/main/Numpy.ipynb\" target=\"_parent\"><img src=\"https://colab.research.google.com/assets/colab-badge.svg\" alt=\"Open In Colab\"/></a>"
      ]
    },
    {
      "cell_type": "code",
      "source": [
        "# import library\n",
        "import numpy as np\n",
        "import pandas as pd"
      ],
      "metadata": {
        "id": "CKSGV5PTTDDo"
      },
      "execution_count": 1,
      "outputs": []
    },
    {
      "cell_type": "markdown",
      "source": [
        "**1. Create a NumPy array 'arr' of integers from 0 to 5 and print its data type.**\n"
      ],
      "metadata": {
        "id": "v0r-xgCcTFQc"
      }
    },
    {
      "cell_type": "code",
      "source": [
        "# arr = np.array([i for i in range(6)])\n",
        "arr = np.linspace(0,5,6, endpoint=True, dtype= int)\n",
        "print(arr)\n",
        "print(arr.dtype)"
      ],
      "metadata": {
        "colab": {
          "base_uri": "https://localhost:8080/"
        },
        "id": "XvWg5P3jTcsS",
        "outputId": "0f27ec81-3b31-4fb3-8cd4-75b4c166e1f3"
      },
      "execution_count": 2,
      "outputs": [
        {
          "output_type": "stream",
          "name": "stdout",
          "text": [
            "[0 1 2 3 4 5]\n",
            "int64\n"
          ]
        }
      ]
    },
    {
      "cell_type": "markdown",
      "source": [
        "**2.Given a NumPy array 'arr', check if its data type is float64.**"
      ],
      "metadata": {
        "id": "DVxKubh9UBk6"
      }
    },
    {
      "cell_type": "code",
      "source": [
        "arr = np.array([1.5, 2.6, 3.7])\n",
        "print(arr.dtype)"
      ],
      "metadata": {
        "colab": {
          "base_uri": "https://localhost:8080/"
        },
        "id": "gj1smASnT9-r",
        "outputId": "a6672027-d51f-441b-bdaf-e9a4c84b3b1e"
      },
      "execution_count": 3,
      "outputs": [
        {
          "output_type": "stream",
          "name": "stdout",
          "text": [
            "float64\n"
          ]
        }
      ]
    },
    {
      "cell_type": "markdown",
      "source": [
        "**3.create a numpy arr with  3 complex numbers with datatype of complex128**"
      ],
      "metadata": {
        "id": "2EFCjruSe7C0"
      }
    },
    {
      "cell_type": "code",
      "source": [
        "arr = np.array([1.0+2.0j, 3.0+4.0j, 5.0+6.0j], dtype=np.complex128)\n",
        "print(arr)\n",
        "print(arr.dtype)"
      ],
      "metadata": {
        "colab": {
          "base_uri": "https://localhost:8080/"
        },
        "id": "zyo2dIltUQPz",
        "outputId": "8ee6fe7e-030c-4572-d67a-7d8e40b94b4a"
      },
      "execution_count": 4,
      "outputs": [
        {
          "output_type": "stream",
          "name": "stdout",
          "text": [
            "[1.+2.j 3.+4.j 5.+6.j]\n",
            "complex128\n"
          ]
        }
      ]
    },
    {
      "cell_type": "markdown",
      "source": [
        "**4.Convert an existing NumPy array 'arr' of integers to float32 data type.**"
      ],
      "metadata": {
        "id": "8Zm-5S6Weej5"
      }
    },
    {
      "cell_type": "code",
      "source": [
        "\n",
        "arr = np.array([1, 2, 3, 4, 5])\n",
        "print(arr.dtype)\n",
        "\n",
        "# Convert the array to float32 uding astype\n",
        "arr = arr.astype(np.float32)\n",
        "\n",
        "print(arr)\n",
        "print(arr.dtype)\n"
      ],
      "metadata": {
        "id": "Hp8TDG84VP9G",
        "colab": {
          "base_uri": "https://localhost:8080/"
        },
        "outputId": "185fe7b6-7953-407e-a974-10dfb6fdfdfc"
      },
      "execution_count": 5,
      "outputs": [
        {
          "output_type": "stream",
          "name": "stdout",
          "text": [
            "int64\n",
            "[1. 2. 3. 4. 5.]\n",
            "float32\n"
          ]
        }
      ]
    },
    {
      "cell_type": "markdown",
      "source": [
        "**5.Given a NumPy array 'arr' with float64 data type, convert it to float32 to reduce decimal precision.**"
      ],
      "metadata": {
        "id": "dMQOg8Bqecl7"
      }
    },
    {
      "cell_type": "code",
      "source": [
        "arr = np.array([1.5, 2.6, 3.7, 4.8, 5.9, 6.0200001])\n",
        "print(\"Original array:\")\n",
        "print(arr)\n",
        "print(\"Data type of the said array:\")\n",
        "print(arr.dtype)\n",
        "result = arr.astype(np.float32)\n",
        "print(\"Array after converting float64 to float32:\")\n",
        "print(result)\n",
        "print(\"Data type of the said array:\")\n",
        "print(result.dtype)\n"
      ],
      "metadata": {
        "colab": {
          "base_uri": "https://localhost:8080/"
        },
        "id": "9tEb5tUUWXc7",
        "outputId": "6b53dc9a-25a9-4e36-dde1-6c9a72bb2460"
      },
      "execution_count": 6,
      "outputs": [
        {
          "output_type": "stream",
          "name": "stdout",
          "text": [
            "Original array:\n",
            "[1.5       2.6       3.7       4.8       5.9       6.0200001]\n",
            "Data type of the said array:\n",
            "float64\n",
            "Array after converting float64 to float32:\n",
            "[1.5  2.6  3.7  4.8  5.9  6.02]\n",
            "Data type of the said array:\n",
            "float32\n"
          ]
        }
      ]
    },
    {
      "cell_type": "markdown",
      "source": [
        "**6)Write a function array_attributes that takes a NumPy array as input and returns its shape, size, and data\n",
        "type.**"
      ],
      "metadata": {
        "id": "1gCfHc_XXRXh"
      }
    },
    {
      "cell_type": "code",
      "source": [
        "def array_attributes(arr: np.array):\n",
        "  return arr.shape, arr.size, arr.dtype\n",
        "\n",
        "arr = np.array([[1, 4, 9], [3, 9, 0]])\n",
        "\n",
        "arr_shape, arr_size, arr_dtype = array_attributes(arr)\n",
        "#\n",
        "print(f\"shape is : {arr_shape}\")\n",
        "print(f\"array size (no. of elements) is : {arr_size}\")\n",
        "print(f\"and data type is : {arr_dtype}\")"
      ],
      "metadata": {
        "colab": {
          "base_uri": "https://localhost:8080/"
        },
        "id": "FtrzwYWsWtzC",
        "outputId": "2b47e63a-070e-454f-d476-901c8a2d5d2c"
      },
      "execution_count": 7,
      "outputs": [
        {
          "output_type": "stream",
          "name": "stdout",
          "text": [
            "shape is : (2, 3)\n",
            "array size (no. of elements) is : 6\n",
            "and data type is : int64\n"
          ]
        }
      ]
    },
    {
      "cell_type": "markdown",
      "source": [
        "**7. Create a function array_dimension that takes a NumPy array as input and returns its dimensionality.**"
      ],
      "metadata": {
        "id": "hw_jRbMgYRMV"
      }
    },
    {
      "cell_type": "code",
      "source": [
        "def array_dimension(arr: np.array):\n",
        "    \"\"\"\n",
        "    Function to return the dimensionality of a NumPy array.\n",
        "    \"\"\"\n",
        "    return arr.ndim\n",
        "\n",
        "array = np.random.rand(3, 4, 5, 9)\n",
        "dimensionality = array_dimension(array)\n",
        "\n",
        "print(\"Dimensionality of the array:\", dimensionality)"
      ],
      "metadata": {
        "colab": {
          "base_uri": "https://localhost:8080/"
        },
        "id": "sQjIgG4FHG4X",
        "outputId": "80e24a4c-7272-4745-8780-3f54d418734f"
      },
      "execution_count": 8,
      "outputs": [
        {
          "output_type": "stream",
          "name": "stdout",
          "text": [
            "Dimensionality of the array: 4\n"
          ]
        }
      ]
    },
    {
      "cell_type": "markdown",
      "source": [
        "**8. Design a function item_size_info that takes a NumPy array as input and returns the item size and the total\n",
        "size in bytes.**"
      ],
      "metadata": {
        "id": "2ITIviX7YaUp"
      }
    },
    {
      "cell_type": "code",
      "source": [
        "def item_size_info(arr):\n",
        "    \"\"\"\n",
        "    Function to return the item size and total size of a NumPy array.\n",
        "    \"\"\"\n",
        "    item_size = arr.itemsize\n",
        "    total_size = arr.nbytes\n",
        "    return item_size, total_size\n",
        "\n",
        "\n",
        "array = np.random.rand(3, 4)\n",
        "item_size, total_size = item_size_info(array)\n",
        "print(\"Item size (bytes):\", item_size)\n",
        "print(\"Total size (bytes):\", total_size)"
      ],
      "metadata": {
        "colab": {
          "base_uri": "https://localhost:8080/"
        },
        "id": "w9jQwXpCIeNO",
        "outputId": "15e5db9b-21a5-41f0-dd77-49198d4430da"
      },
      "execution_count": 9,
      "outputs": [
        {
          "output_type": "stream",
          "name": "stdout",
          "text": [
            "Item size (bytes): 8\n",
            "Total size (bytes): 96\n"
          ]
        }
      ]
    },
    {
      "cell_type": "markdown",
      "source": [
        "**9. Create a function array_strides that takes a NumPy array as input and returns the strides of the array.**"
      ],
      "metadata": {
        "id": "hx9Br1oAJmrA"
      }
    },
    {
      "cell_type": "code",
      "source": [
        "def array_strides(arr):\n",
        "    \"\"\"\n",
        "    Function to return the strides of a NumPy array.\n",
        "    \"\"\"\n",
        "    return arr.strides # will alos give the same ans\n",
        "\n",
        "array = np.arange(12, dtype=np.int32).reshape((3, 4))\n",
        "strides = array_strides(array)\n",
        "\n",
        "print(\"Strides of the array:\", strides)"
      ],
      "metadata": {
        "colab": {
          "base_uri": "https://localhost:8080/"
        },
        "id": "Lb9Uqd__JyTf",
        "outputId": "b4c2183e-8ad8-45c5-aa49-c3e9ce07a97f"
      },
      "execution_count": 10,
      "outputs": [
        {
          "output_type": "stream",
          "name": "stdout",
          "text": [
            "Strides of the array: (16, 4)\n"
          ]
        }
      ]
    },
    {
      "cell_type": "code",
      "source": [
        "# dtype in int32 ie 4 bytes\n",
        "# we have to skip 4 bytes (1 value) to move to the next column, but 16 bytes (5 values) to get to the same position in the next row.\n",
        "# As such, the strides for the array x will be (16, 4).\n",
        "array"
      ],
      "metadata": {
        "colab": {
          "base_uri": "https://localhost:8080/"
        },
        "id": "yCuDrg7uPFPG",
        "outputId": "48b5c552-6746-4833-dea2-760e61eaf4ad"
      },
      "execution_count": 11,
      "outputs": [
        {
          "output_type": "execute_result",
          "data": {
            "text/plain": [
              "array([[ 0,  1,  2,  3],\n",
              "       [ 4,  5,  6,  7],\n",
              "       [ 8,  9, 10, 11]], dtype=int32)"
            ]
          },
          "metadata": {},
          "execution_count": 11
        }
      ]
    },
    {
      "cell_type": "markdown",
      "source": [
        "**10. Design a function `shape_stride_relationship` that takes a NumPy array as input and returns the shape\n",
        "and strides of the array..**"
      ],
      "metadata": {
        "id": "jVT5_dz6UuZd"
      }
    },
    {
      "cell_type": "code",
      "source": [
        "def shape_stride_relationship(array):\n",
        "  \"\"\" Function to return the strides of a NumPy array.\"\"\"\n",
        "  return array.shape , array.strides\n",
        "\n",
        "\n",
        "arr_shape, arr_stride =  shape_stride_relationship(array)\n",
        "print(f\"Shape of array is : {arr_shape}\")\n",
        "print(f\"Stride of array is : {arr_stride}\")"
      ],
      "metadata": {
        "colab": {
          "base_uri": "https://localhost:8080/"
        },
        "id": "GyhXLVaNU98E",
        "outputId": "6e5dcee8-61bb-46f6-bbed-d0f810a4bc8e"
      },
      "execution_count": 12,
      "outputs": [
        {
          "output_type": "stream",
          "name": "stdout",
          "text": [
            "Shape of array is : (3, 4)\n",
            "Stride of array is : (16, 4)\n"
          ]
        }
      ]
    },
    {
      "cell_type": "markdown",
      "source": [
        "**11. Create a function `create_zeros_array` that takes an integer `n` as input and returns a NumPy array of zeros with `n` elements.**"
      ],
      "metadata": {
        "id": "MCBf039YYgQM"
      }
    },
    {
      "cell_type": "code",
      "source": [
        "def create_zeros_array(n):\n",
        "    \"\"\"\n",
        "    Function to create a NumPy array of zeros with n elements.\n",
        "    \"\"\"\n",
        "    return np.zeros(n)\n",
        "\n",
        "n = 5  # Number of elements\n",
        "zeros_array = create_zeros_array(n)\n",
        "print(\"Zeros array: \", zeros_array)"
      ],
      "metadata": {
        "colab": {
          "base_uri": "https://localhost:8080/"
        },
        "id": "H2pKoywPY_0_",
        "outputId": "cd00ad3e-a319-4a9f-9954-2c85994ea9a9"
      },
      "execution_count": 13,
      "outputs": [
        {
          "output_type": "stream",
          "name": "stdout",
          "text": [
            "Zeros array:  [0. 0. 0. 0. 0.]\n"
          ]
        }
      ]
    },
    {
      "cell_type": "markdown",
      "source": [
        "12. Write a function `create_ones_matrix` that takes integers `rows` and `cols` as inputs and generates a 2D NumPy array filled with ones of size `rows x cols`."
      ],
      "metadata": {
        "id": "D2lyjiKjadkx"
      }
    },
    {
      "cell_type": "code",
      "source": [
        "def create_ones_matrix(rows, cols):\n",
        "  return np.ones((rows, cols))\n",
        "\n",
        "print(create_ones_matrix(2, 3))"
      ],
      "metadata": {
        "colab": {
          "base_uri": "https://localhost:8080/"
        },
        "id": "vgnBbEoTj5FA",
        "outputId": "20009382-3522-44da-cea3-da48df42b39e"
      },
      "execution_count": 14,
      "outputs": [
        {
          "output_type": "stream",
          "name": "stdout",
          "text": [
            "[[1. 1. 1.]\n",
            " [1. 1. 1.]]\n"
          ]
        }
      ]
    },
    {
      "cell_type": "markdown",
      "source": [
        "13. Write a function `generate_range_array` that takes three integers start, stop, and step as arguments and\n",
        "creates a NumPy array with a range starting from `start`, ending at stop (exclusive), and with the specified\n",
        "`step`."
      ],
      "metadata": {
        "id": "HdYdT_OKkkYA"
      }
    },
    {
      "cell_type": "code",
      "source": [
        "def genrate_range_array(start, stop, steps):\n",
        "  return np.arange(start, stop, steps)\n",
        "\n",
        "print(genrate_range_array(12, 85, 11))"
      ],
      "metadata": {
        "colab": {
          "base_uri": "https://localhost:8080/"
        },
        "id": "Da5ZML-NkjaK",
        "outputId": "a3860169-5a65-4808-bd7d-bd1f76b7d431"
      },
      "execution_count": 15,
      "outputs": [
        {
          "output_type": "stream",
          "name": "stdout",
          "text": [
            "[12 23 34 45 56 67 78]\n"
          ]
        }
      ]
    },
    {
      "cell_type": "markdown",
      "source": [
        "**14. Design a function `generate_linear_space` that takes two floats `start`, `stop`, and an integer `num` as\n",
        "arguments and generates a NumPy array with num equally spaced values between `start` and `stop`\n",
        "(inclusive).**"
      ],
      "metadata": {
        "id": "qGdd1jTSksXd"
      }
    },
    {
      "cell_type": "code",
      "source": [
        "def genrate_linear_space(start, stop, num):\n",
        "  return np.linspace(start, stop, num)\n",
        "\n",
        "print(genrate_linear_space(2.0,3.0,5))"
      ],
      "metadata": {
        "colab": {
          "base_uri": "https://localhost:8080/"
        },
        "id": "-LoaQUzskssy",
        "outputId": "a68f01e0-5911-42b1-8da4-bd640c7404b4"
      },
      "execution_count": 16,
      "outputs": [
        {
          "output_type": "stream",
          "name": "stdout",
          "text": [
            "[2.   2.25 2.5  2.75 3.  ]\n"
          ]
        }
      ]
    },
    {
      "cell_type": "markdown",
      "source": [
        "15. Create a function `create_identity_matrix` that takes an integer `n` as input and generates a square\n",
        "identity matrix of size `n x n` using `numpy.eye`."
      ],
      "metadata": {
        "id": "LKEtvLULk5qC"
      }
    },
    {
      "cell_type": "code",
      "source": [
        "def create_identity_matix(n):\n",
        "    return np.eye(n)\n",
        "\n",
        "print(create_identity_matix(3))"
      ],
      "metadata": {
        "colab": {
          "base_uri": "https://localhost:8080/"
        },
        "id": "9uS-wISHk47u",
        "outputId": "e94eabee-13c8-4930-d21c-d0e6f8d08b51"
      },
      "execution_count": 17,
      "outputs": [
        {
          "output_type": "stream",
          "name": "stdout",
          "text": [
            "[[1. 0. 0.]\n",
            " [0. 1. 0.]\n",
            " [0. 0. 1.]]\n"
          ]
        }
      ]
    },
    {
      "cell_type": "markdown",
      "source": [
        "16. Write a function that takes a Python list and converts it into a NumPy array."
      ],
      "metadata": {
        "id": "ml9vBod_lSgP"
      }
    },
    {
      "cell_type": "code",
      "source": [
        "def list2array(l):\n",
        "  return np.asarray(l)\n",
        "\n",
        "print(list2array([1,2,3,4]))\n",
        "print(type(list2array([1,2,3,4])))"
      ],
      "metadata": {
        "colab": {
          "base_uri": "https://localhost:8080/"
        },
        "id": "lBy1hB3flSt0",
        "outputId": "2500f401-781a-4f39-a468-1589e06a4450"
      },
      "execution_count": 18,
      "outputs": [
        {
          "output_type": "stream",
          "name": "stdout",
          "text": [
            "[1 2 3 4]\n",
            "<class 'numpy.ndarray'>\n"
          ]
        }
      ]
    },
    {
      "cell_type": "markdown",
      "source": [
        "\n",
        "17. Create a NumPy array and demonstrate the use of `numpy.view` to create a new array object with the\n",
        "same data."
      ],
      "metadata": {
        "id": "zKXg6yhzYaa2"
      }
    },
    {
      "cell_type": "code",
      "source": [
        "# Create an array\n",
        "arr = np.array([1, 2, 3, 4, 5])\n",
        "\n",
        "# Create a new array object with the same data using numpy.view\n",
        "view_arr = arr.view()\n",
        "\n",
        "# Verify that the data is the same\n",
        "print(\"Original array:\", arr)\n",
        "print(\"View array:\", view_arr)\n",
        "\n",
        "# Modify the original array\n",
        "arr[0] = 10\n",
        "\n",
        "# Verify that the view array is also modified\n",
        "print(\"Modified original array:\", arr)\n",
        "print(\"Modified view array:\", view_arr)\n"
      ],
      "metadata": {
        "colab": {
          "base_uri": "https://localhost:8080/"
        },
        "id": "9hoFAFG8kgrA",
        "outputId": "85c2f7d5-4cde-4d60-f152-a6681981fa36"
      },
      "execution_count": 19,
      "outputs": [
        {
          "output_type": "stream",
          "name": "stdout",
          "text": [
            "Original array: [1 2 3 4 5]\n",
            "View array: [1 2 3 4 5]\n",
            "Modified original array: [10  2  3  4  5]\n",
            "Modified view array: [10  2  3  4  5]\n"
          ]
        }
      ]
    },
    {
      "cell_type": "markdown",
      "source": [
        "18. Write a function that takes two NumPy arrays and concatenates them along a specified axis."
      ],
      "metadata": {
        "id": "8UPVW_w0l0jX"
      }
    },
    {
      "cell_type": "code",
      "source": [
        "def concatinate(arr1, arr2, axis):\n",
        "    ans = np.concatenate((arr1, arr2), axis)\n",
        "    return ans"
      ],
      "metadata": {
        "id": "m59_2jW8keF9"
      },
      "execution_count": 20,
      "outputs": []
    },
    {
      "cell_type": "markdown",
      "source": [
        "19. Create two NumPy arrays with different shapes and concatenate them horizontally using `numpy\n",
        "concatenate`."
      ],
      "metadata": {
        "id": "6Gjl4Vijz2yS"
      }
    },
    {
      "cell_type": "code",
      "source": [
        "a = np.array([[1,3], [4,7]])\n",
        "b = np.array([[7,0]])\n",
        "concatinate(a, b, 0)"
      ],
      "metadata": {
        "colab": {
          "base_uri": "https://localhost:8080/"
        },
        "id": "WSGgDLgGz6uJ",
        "outputId": "491c8e96-225e-471e-b1cc-2d94e34aa4fe"
      },
      "execution_count": 21,
      "outputs": [
        {
          "output_type": "execute_result",
          "data": {
            "text/plain": [
              "array([[1, 3],\n",
              "       [4, 7],\n",
              "       [7, 0]])"
            ]
          },
          "metadata": {},
          "execution_count": 21
        }
      ]
    },
    {
      "cell_type": "markdown",
      "source": [
        "20. Write a function that vertically stacks multiple NumPy arrays given as a list.\n"
      ],
      "metadata": {
        "id": "buQj98xd0DtU"
      }
    },
    {
      "cell_type": "code",
      "source": [
        "a = np.array([[1,3], [4,7]])\n",
        "c = np.array([[7], [0]])\n",
        "concatinate(a, c, 1)"
      ],
      "metadata": {
        "colab": {
          "base_uri": "https://localhost:8080/"
        },
        "id": "A8PBIRUK0D6Z",
        "outputId": "56862349-906e-495c-8c3f-600bf3a7f3fa"
      },
      "execution_count": 22,
      "outputs": [
        {
          "output_type": "execute_result",
          "data": {
            "text/plain": [
              "array([[1, 3, 7],\n",
              "       [4, 7, 0]])"
            ]
          },
          "metadata": {},
          "execution_count": 22
        }
      ]
    },
    {
      "cell_type": "markdown",
      "source": [
        "21. Write a Python function using NumPy to create an array of integers within a specified range (inclusive)\n",
        "with a given step size."
      ],
      "metadata": {
        "id": "ckz7Orx20LYn"
      }
    },
    {
      "cell_type": "code",
      "source": [
        "start = 1\n",
        "stop = 26\n",
        "step = 5\n",
        "np.arange(start, stop+1, step)"
      ],
      "metadata": {
        "colab": {
          "base_uri": "https://localhost:8080/"
        },
        "id": "FGrxippG0LmR",
        "outputId": "ae346e70-41f7-4263-f397-4d4f69ffba29"
      },
      "execution_count": 23,
      "outputs": [
        {
          "output_type": "execute_result",
          "data": {
            "text/plain": [
              "array([ 1,  6, 11, 16, 21, 26])"
            ]
          },
          "metadata": {},
          "execution_count": 23
        }
      ]
    },
    {
      "cell_type": "markdown",
      "source": [
        "22. Write a Python function using NumPy to generate an array of 10 equally spaced values between 0 and 1\n",
        "(inclusive)."
      ],
      "metadata": {
        "id": "Qdt9sv1T0ghI"
      }
    },
    {
      "cell_type": "code",
      "source": [
        "# 10 linerly spaced values from 0 to 1\n",
        "np.linspace(0,1, 10)"
      ],
      "metadata": {
        "colab": {
          "base_uri": "https://localhost:8080/"
        },
        "id": "mXDDvKju0gvI",
        "outputId": "3444614d-b9e1-4597-f7ea-b9bef3e852f1"
      },
      "execution_count": 24,
      "outputs": [
        {
          "output_type": "execute_result",
          "data": {
            "text/plain": [
              "array([0.        , 0.11111111, 0.22222222, 0.33333333, 0.44444444,\n",
              "       0.55555556, 0.66666667, 0.77777778, 0.88888889, 1.        ])"
            ]
          },
          "metadata": {},
          "execution_count": 24
        }
      ]
    },
    {
      "cell_type": "markdown",
      "source": [
        "23. Write a Python function using NumPy to create an array of 5 logarithmically spaced values between 1 and\n",
        "1000 (inclusive).\n"
      ],
      "metadata": {
        "id": "JybYKLSL2Ayj"
      }
    },
    {
      "cell_type": "code",
      "source": [
        "np.logspace(0, 3, 5)"
      ],
      "metadata": {
        "colab": {
          "base_uri": "https://localhost:8080/"
        },
        "id": "B1NvkE9s2BCE",
        "outputId": "1c2267d9-8409-47bb-caae-473f229a10cb"
      },
      "execution_count": 25,
      "outputs": [
        {
          "output_type": "execute_result",
          "data": {
            "text/plain": [
              "array([   1.        ,    5.62341325,   31.6227766 ,  177.827941  ,\n",
              "       1000.        ])"
            ]
          },
          "metadata": {},
          "execution_count": 25
        }
      ]
    },
    {
      "cell_type": "markdown",
      "source": [
        "24. Create a Pandas DataFrame using a NumPy array that contains 5 rows and 3 columns, where the values\n",
        "are random integers between 1 and 100.\n"
      ],
      "metadata": {
        "id": "vq4-iP1_2KG2"
      }
    },
    {
      "cell_type": "code",
      "source": [
        "arr = np.random.randint(low=1, high=101, size=(5, 3), dtype=int)\n",
        "df = pd.DataFrame(arr, columns= [\"col1\", \"col2\", \"col3\"])\n",
        "df"
      ],
      "metadata": {
        "colab": {
          "base_uri": "https://localhost:8080/",
          "height": 206
        },
        "id": "54Ru1mNG2KV0",
        "outputId": "2468c630-5669-467c-b26c-e27f4ee774e1"
      },
      "execution_count": 26,
      "outputs": [
        {
          "output_type": "execute_result",
          "data": {
            "text/plain": [
              "   col1  col2  col3\n",
              "0    34     2    80\n",
              "1     1    50    36\n",
              "2    27    81    86\n",
              "3    98     7    96\n",
              "4    81    29    50"
            ],
            "text/html": [
              "\n",
              "  <div id=\"df-d58416ba-0362-41e3-bba8-3b1bfc476938\" class=\"colab-df-container\">\n",
              "    <div>\n",
              "<style scoped>\n",
              "    .dataframe tbody tr th:only-of-type {\n",
              "        vertical-align: middle;\n",
              "    }\n",
              "\n",
              "    .dataframe tbody tr th {\n",
              "        vertical-align: top;\n",
              "    }\n",
              "\n",
              "    .dataframe thead th {\n",
              "        text-align: right;\n",
              "    }\n",
              "</style>\n",
              "<table border=\"1\" class=\"dataframe\">\n",
              "  <thead>\n",
              "    <tr style=\"text-align: right;\">\n",
              "      <th></th>\n",
              "      <th>col1</th>\n",
              "      <th>col2</th>\n",
              "      <th>col3</th>\n",
              "    </tr>\n",
              "  </thead>\n",
              "  <tbody>\n",
              "    <tr>\n",
              "      <th>0</th>\n",
              "      <td>34</td>\n",
              "      <td>2</td>\n",
              "      <td>80</td>\n",
              "    </tr>\n",
              "    <tr>\n",
              "      <th>1</th>\n",
              "      <td>1</td>\n",
              "      <td>50</td>\n",
              "      <td>36</td>\n",
              "    </tr>\n",
              "    <tr>\n",
              "      <th>2</th>\n",
              "      <td>27</td>\n",
              "      <td>81</td>\n",
              "      <td>86</td>\n",
              "    </tr>\n",
              "    <tr>\n",
              "      <th>3</th>\n",
              "      <td>98</td>\n",
              "      <td>7</td>\n",
              "      <td>96</td>\n",
              "    </tr>\n",
              "    <tr>\n",
              "      <th>4</th>\n",
              "      <td>81</td>\n",
              "      <td>29</td>\n",
              "      <td>50</td>\n",
              "    </tr>\n",
              "  </tbody>\n",
              "</table>\n",
              "</div>\n",
              "    <div class=\"colab-df-buttons\">\n",
              "\n",
              "  <div class=\"colab-df-container\">\n",
              "    <button class=\"colab-df-convert\" onclick=\"convertToInteractive('df-d58416ba-0362-41e3-bba8-3b1bfc476938')\"\n",
              "            title=\"Convert this dataframe to an interactive table.\"\n",
              "            style=\"display:none;\">\n",
              "\n",
              "  <svg xmlns=\"http://www.w3.org/2000/svg\" height=\"24px\" viewBox=\"0 -960 960 960\">\n",
              "    <path d=\"M120-120v-720h720v720H120Zm60-500h600v-160H180v160Zm220 220h160v-160H400v160Zm0 220h160v-160H400v160ZM180-400h160v-160H180v160Zm440 0h160v-160H620v160ZM180-180h160v-160H180v160Zm440 0h160v-160H620v160Z\"/>\n",
              "  </svg>\n",
              "    </button>\n",
              "\n",
              "  <style>\n",
              "    .colab-df-container {\n",
              "      display:flex;\n",
              "      gap: 12px;\n",
              "    }\n",
              "\n",
              "    .colab-df-convert {\n",
              "      background-color: #E8F0FE;\n",
              "      border: none;\n",
              "      border-radius: 50%;\n",
              "      cursor: pointer;\n",
              "      display: none;\n",
              "      fill: #1967D2;\n",
              "      height: 32px;\n",
              "      padding: 0 0 0 0;\n",
              "      width: 32px;\n",
              "    }\n",
              "\n",
              "    .colab-df-convert:hover {\n",
              "      background-color: #E2EBFA;\n",
              "      box-shadow: 0px 1px 2px rgba(60, 64, 67, 0.3), 0px 1px 3px 1px rgba(60, 64, 67, 0.15);\n",
              "      fill: #174EA6;\n",
              "    }\n",
              "\n",
              "    .colab-df-buttons div {\n",
              "      margin-bottom: 4px;\n",
              "    }\n",
              "\n",
              "    [theme=dark] .colab-df-convert {\n",
              "      background-color: #3B4455;\n",
              "      fill: #D2E3FC;\n",
              "    }\n",
              "\n",
              "    [theme=dark] .colab-df-convert:hover {\n",
              "      background-color: #434B5C;\n",
              "      box-shadow: 0px 1px 3px 1px rgba(0, 0, 0, 0.15);\n",
              "      filter: drop-shadow(0px 1px 2px rgba(0, 0, 0, 0.3));\n",
              "      fill: #FFFFFF;\n",
              "    }\n",
              "  </style>\n",
              "\n",
              "    <script>\n",
              "      const buttonEl =\n",
              "        document.querySelector('#df-d58416ba-0362-41e3-bba8-3b1bfc476938 button.colab-df-convert');\n",
              "      buttonEl.style.display =\n",
              "        google.colab.kernel.accessAllowed ? 'block' : 'none';\n",
              "\n",
              "      async function convertToInteractive(key) {\n",
              "        const element = document.querySelector('#df-d58416ba-0362-41e3-bba8-3b1bfc476938');\n",
              "        const dataTable =\n",
              "          await google.colab.kernel.invokeFunction('convertToInteractive',\n",
              "                                                    [key], {});\n",
              "        if (!dataTable) return;\n",
              "\n",
              "        const docLinkHtml = 'Like what you see? Visit the ' +\n",
              "          '<a target=\"_blank\" href=https://colab.research.google.com/notebooks/data_table.ipynb>data table notebook</a>'\n",
              "          + ' to learn more about interactive tables.';\n",
              "        element.innerHTML = '';\n",
              "        dataTable['output_type'] = 'display_data';\n",
              "        await google.colab.output.renderOutput(dataTable, element);\n",
              "        const docLink = document.createElement('div');\n",
              "        docLink.innerHTML = docLinkHtml;\n",
              "        element.appendChild(docLink);\n",
              "      }\n",
              "    </script>\n",
              "  </div>\n",
              "\n",
              "\n",
              "<div id=\"df-2185627b-98f6-4e37-8bff-b965d8766385\">\n",
              "  <button class=\"colab-df-quickchart\" onclick=\"quickchart('df-2185627b-98f6-4e37-8bff-b965d8766385')\"\n",
              "            title=\"Suggest charts\"\n",
              "            style=\"display:none;\">\n",
              "\n",
              "<svg xmlns=\"http://www.w3.org/2000/svg\" height=\"24px\"viewBox=\"0 0 24 24\"\n",
              "     width=\"24px\">\n",
              "    <g>\n",
              "        <path d=\"M19 3H5c-1.1 0-2 .9-2 2v14c0 1.1.9 2 2 2h14c1.1 0 2-.9 2-2V5c0-1.1-.9-2-2-2zM9 17H7v-7h2v7zm4 0h-2V7h2v10zm4 0h-2v-4h2v4z\"/>\n",
              "    </g>\n",
              "</svg>\n",
              "  </button>\n",
              "\n",
              "<style>\n",
              "  .colab-df-quickchart {\n",
              "      --bg-color: #E8F0FE;\n",
              "      --fill-color: #1967D2;\n",
              "      --hover-bg-color: #E2EBFA;\n",
              "      --hover-fill-color: #174EA6;\n",
              "      --disabled-fill-color: #AAA;\n",
              "      --disabled-bg-color: #DDD;\n",
              "  }\n",
              "\n",
              "  [theme=dark] .colab-df-quickchart {\n",
              "      --bg-color: #3B4455;\n",
              "      --fill-color: #D2E3FC;\n",
              "      --hover-bg-color: #434B5C;\n",
              "      --hover-fill-color: #FFFFFF;\n",
              "      --disabled-bg-color: #3B4455;\n",
              "      --disabled-fill-color: #666;\n",
              "  }\n",
              "\n",
              "  .colab-df-quickchart {\n",
              "    background-color: var(--bg-color);\n",
              "    border: none;\n",
              "    border-radius: 50%;\n",
              "    cursor: pointer;\n",
              "    display: none;\n",
              "    fill: var(--fill-color);\n",
              "    height: 32px;\n",
              "    padding: 0;\n",
              "    width: 32px;\n",
              "  }\n",
              "\n",
              "  .colab-df-quickchart:hover {\n",
              "    background-color: var(--hover-bg-color);\n",
              "    box-shadow: 0 1px 2px rgba(60, 64, 67, 0.3), 0 1px 3px 1px rgba(60, 64, 67, 0.15);\n",
              "    fill: var(--button-hover-fill-color);\n",
              "  }\n",
              "\n",
              "  .colab-df-quickchart-complete:disabled,\n",
              "  .colab-df-quickchart-complete:disabled:hover {\n",
              "    background-color: var(--disabled-bg-color);\n",
              "    fill: var(--disabled-fill-color);\n",
              "    box-shadow: none;\n",
              "  }\n",
              "\n",
              "  .colab-df-spinner {\n",
              "    border: 2px solid var(--fill-color);\n",
              "    border-color: transparent;\n",
              "    border-bottom-color: var(--fill-color);\n",
              "    animation:\n",
              "      spin 1s steps(1) infinite;\n",
              "  }\n",
              "\n",
              "  @keyframes spin {\n",
              "    0% {\n",
              "      border-color: transparent;\n",
              "      border-bottom-color: var(--fill-color);\n",
              "      border-left-color: var(--fill-color);\n",
              "    }\n",
              "    20% {\n",
              "      border-color: transparent;\n",
              "      border-left-color: var(--fill-color);\n",
              "      border-top-color: var(--fill-color);\n",
              "    }\n",
              "    30% {\n",
              "      border-color: transparent;\n",
              "      border-left-color: var(--fill-color);\n",
              "      border-top-color: var(--fill-color);\n",
              "      border-right-color: var(--fill-color);\n",
              "    }\n",
              "    40% {\n",
              "      border-color: transparent;\n",
              "      border-right-color: var(--fill-color);\n",
              "      border-top-color: var(--fill-color);\n",
              "    }\n",
              "    60% {\n",
              "      border-color: transparent;\n",
              "      border-right-color: var(--fill-color);\n",
              "    }\n",
              "    80% {\n",
              "      border-color: transparent;\n",
              "      border-right-color: var(--fill-color);\n",
              "      border-bottom-color: var(--fill-color);\n",
              "    }\n",
              "    90% {\n",
              "      border-color: transparent;\n",
              "      border-bottom-color: var(--fill-color);\n",
              "    }\n",
              "  }\n",
              "</style>\n",
              "\n",
              "  <script>\n",
              "    async function quickchart(key) {\n",
              "      const quickchartButtonEl =\n",
              "        document.querySelector('#' + key + ' button');\n",
              "      quickchartButtonEl.disabled = true;  // To prevent multiple clicks.\n",
              "      quickchartButtonEl.classList.add('colab-df-spinner');\n",
              "      try {\n",
              "        const charts = await google.colab.kernel.invokeFunction(\n",
              "            'suggestCharts', [key], {});\n",
              "      } catch (error) {\n",
              "        console.error('Error during call to suggestCharts:', error);\n",
              "      }\n",
              "      quickchartButtonEl.classList.remove('colab-df-spinner');\n",
              "      quickchartButtonEl.classList.add('colab-df-quickchart-complete');\n",
              "    }\n",
              "    (() => {\n",
              "      let quickchartButtonEl =\n",
              "        document.querySelector('#df-2185627b-98f6-4e37-8bff-b965d8766385 button');\n",
              "      quickchartButtonEl.style.display =\n",
              "        google.colab.kernel.accessAllowed ? 'block' : 'none';\n",
              "    })();\n",
              "  </script>\n",
              "</div>\n",
              "\n",
              "  <div id=\"id_df853010-74e7-4cd4-997e-b8e766fe3e77\">\n",
              "    <style>\n",
              "      .colab-df-generate {\n",
              "        background-color: #E8F0FE;\n",
              "        border: none;\n",
              "        border-radius: 50%;\n",
              "        cursor: pointer;\n",
              "        display: none;\n",
              "        fill: #1967D2;\n",
              "        height: 32px;\n",
              "        padding: 0 0 0 0;\n",
              "        width: 32px;\n",
              "      }\n",
              "\n",
              "      .colab-df-generate:hover {\n",
              "        background-color: #E2EBFA;\n",
              "        box-shadow: 0px 1px 2px rgba(60, 64, 67, 0.3), 0px 1px 3px 1px rgba(60, 64, 67, 0.15);\n",
              "        fill: #174EA6;\n",
              "      }\n",
              "\n",
              "      [theme=dark] .colab-df-generate {\n",
              "        background-color: #3B4455;\n",
              "        fill: #D2E3FC;\n",
              "      }\n",
              "\n",
              "      [theme=dark] .colab-df-generate:hover {\n",
              "        background-color: #434B5C;\n",
              "        box-shadow: 0px 1px 3px 1px rgba(0, 0, 0, 0.15);\n",
              "        filter: drop-shadow(0px 1px 2px rgba(0, 0, 0, 0.3));\n",
              "        fill: #FFFFFF;\n",
              "      }\n",
              "    </style>\n",
              "    <button class=\"colab-df-generate\" onclick=\"generateWithVariable('df')\"\n",
              "            title=\"Generate code using this dataframe.\"\n",
              "            style=\"display:none;\">\n",
              "\n",
              "  <svg xmlns=\"http://www.w3.org/2000/svg\" height=\"24px\"viewBox=\"0 0 24 24\"\n",
              "       width=\"24px\">\n",
              "    <path d=\"M7,19H8.4L18.45,9,17,7.55,7,17.6ZM5,21V16.75L18.45,3.32a2,2,0,0,1,2.83,0l1.4,1.43a1.91,1.91,0,0,1,.58,1.4,1.91,1.91,0,0,1-.58,1.4L9.25,21ZM18.45,9,17,7.55Zm-12,3A5.31,5.31,0,0,0,4.9,8.1,5.31,5.31,0,0,0,1,6.5,5.31,5.31,0,0,0,4.9,4.9,5.31,5.31,0,0,0,6.5,1,5.31,5.31,0,0,0,8.1,4.9,5.31,5.31,0,0,0,12,6.5,5.46,5.46,0,0,0,6.5,12Z\"/>\n",
              "  </svg>\n",
              "    </button>\n",
              "    <script>\n",
              "      (() => {\n",
              "      const buttonEl =\n",
              "        document.querySelector('#id_df853010-74e7-4cd4-997e-b8e766fe3e77 button.colab-df-generate');\n",
              "      buttonEl.style.display =\n",
              "        google.colab.kernel.accessAllowed ? 'block' : 'none';\n",
              "\n",
              "      buttonEl.onclick = () => {\n",
              "        google.colab.notebook.generateWithVariable('df');\n",
              "      }\n",
              "      })();\n",
              "    </script>\n",
              "  </div>\n",
              "\n",
              "    </div>\n",
              "  </div>\n"
            ],
            "application/vnd.google.colaboratory.intrinsic+json": {
              "type": "dataframe",
              "variable_name": "df",
              "summary": "{\n  \"name\": \"df\",\n  \"rows\": 5,\n  \"fields\": [\n    {\n      \"column\": \"col1\",\n      \"properties\": {\n        \"dtype\": \"number\",\n        \"std\": 40,\n        \"min\": 1,\n        \"max\": 98,\n        \"num_unique_values\": 5,\n        \"samples\": [\n          1,\n          81,\n          27\n        ],\n        \"semantic_type\": \"\",\n        \"description\": \"\"\n      }\n    },\n    {\n      \"column\": \"col2\",\n      \"properties\": {\n        \"dtype\": \"number\",\n        \"std\": 32,\n        \"min\": 2,\n        \"max\": 81,\n        \"num_unique_values\": 5,\n        \"samples\": [\n          50,\n          29,\n          81\n        ],\n        \"semantic_type\": \"\",\n        \"description\": \"\"\n      }\n    },\n    {\n      \"column\": \"col3\",\n      \"properties\": {\n        \"dtype\": \"number\",\n        \"std\": 25,\n        \"min\": 36,\n        \"max\": 96,\n        \"num_unique_values\": 5,\n        \"samples\": [\n          36,\n          50,\n          86\n        ],\n        \"semantic_type\": \"\",\n        \"description\": \"\"\n      }\n    }\n  ]\n}"
            }
          },
          "metadata": {},
          "execution_count": 26
        }
      ]
    },
    {
      "cell_type": "markdown",
      "source": [
        "25. Write a function that takes a Pandas DataFrame and replaces all negative values in a specific column\n",
        "with zeros. Use NumPy operations within the Pandas DataFrame."
      ],
      "metadata": {
        "id": "gIEYqPh72d2f"
      }
    },
    {
      "cell_type": "code",
      "source": [
        "def replace_negative_values(df, column_name):\n",
        "  df[column_name] = np.where(df[column_name] < 0, 0, df[column_name])\n",
        "  return df\n",
        "\n",
        "# Example usage\n",
        "df = pd.DataFrame({'A': [-1, 2, -3, 4, -5], 'B': [6, 7, 8, 9, 10]})\n",
        "\n",
        "df = replace_negative_values(df, 'A')\n",
        "\n",
        "print(df)"
      ],
      "metadata": {
        "colab": {
          "base_uri": "https://localhost:8080/"
        },
        "id": "BWOgbWm72QHt",
        "outputId": "d9a6e36d-4bc6-4d65-8b35-57a8f9db4a7a"
      },
      "execution_count": 27,
      "outputs": [
        {
          "output_type": "stream",
          "name": "stdout",
          "text": [
            "   A   B\n",
            "0  0   6\n",
            "1  2   7\n",
            "2  0   8\n",
            "3  4   9\n",
            "4  0  10\n"
          ]
        }
      ]
    },
    {
      "cell_type": "markdown",
      "source": [
        "26. Access the 3rd element from the given NumPy array."
      ],
      "metadata": {
        "id": "PC3wZLpY2Qzw"
      }
    },
    {
      "cell_type": "code",
      "source": [
        "arr = np.array([10, 20, 30, 40, 50])\n",
        "# third element at 2nd index\n",
        "arr[2]"
      ],
      "metadata": {
        "colab": {
          "base_uri": "https://localhost:8080/"
        },
        "id": "BIGt2_Y0HPOx",
        "outputId": "d9f2b313-76e0-4c78-8ce3-e35ed477eee7"
      },
      "execution_count": 28,
      "outputs": [
        {
          "output_type": "execute_result",
          "data": {
            "text/plain": [
              "30"
            ]
          },
          "metadata": {},
          "execution_count": 28
        }
      ]
    },
    {
      "cell_type": "markdown",
      "source": [
        "27. Retrieve the element at index (1, 2) from the 2D NumPy array."
      ],
      "metadata": {
        "id": "sJkoChWC2Kij"
      }
    },
    {
      "cell_type": "code",
      "source": [
        "arr_2d = np.array([[1, 2, 3],\n",
        "                   [4, 5, 6],\n",
        "                   [7, 8, 9]])\n",
        "\n",
        "arr_2d[1,2]"
      ],
      "metadata": {
        "colab": {
          "base_uri": "https://localhost:8080/"
        },
        "id": "f1ReLPtg2Kvj",
        "outputId": "36333ae1-fbb8-4891-da0b-4bcdd6f70043"
      },
      "execution_count": 29,
      "outputs": [
        {
          "output_type": "execute_result",
          "data": {
            "text/plain": [
              "6"
            ]
          },
          "metadata": {},
          "execution_count": 29
        }
      ]
    },
    {
      "cell_type": "markdown",
      "source": [
        "28. Using boolean indexing, extract elements greater than 5 from the given NumPy array."
      ],
      "metadata": {
        "id": "49SfwfA_2K58"
      }
    },
    {
      "cell_type": "code",
      "source": [
        "arr = np.array([3, 8, 2, 10, 5, 7])\n",
        "arr[arr>5]"
      ],
      "metadata": {
        "colab": {
          "base_uri": "https://localhost:8080/"
        },
        "id": "XUP8Rst02LF7",
        "outputId": "68d17951-73a6-4ebf-c4a3-4c658bf2a6d6"
      },
      "execution_count": 30,
      "outputs": [
        {
          "output_type": "execute_result",
          "data": {
            "text/plain": [
              "array([ 8, 10,  7])"
            ]
          },
          "metadata": {},
          "execution_count": 30
        }
      ]
    },
    {
      "cell_type": "markdown",
      "source": [
        "29. Perform basic slicing to extract elements from index 2 to 5 (inclusive) from the given NumPy array."
      ],
      "metadata": {
        "id": "Y403-6XYJDSz"
      }
    },
    {
      "cell_type": "code",
      "source": [
        "arr = np.array([1, 2, 3, 4, 5, 6, 7, 8, 9])\n",
        "# from index 2 to 5\n",
        "arr[2:6]"
      ],
      "metadata": {
        "colab": {
          "base_uri": "https://localhost:8080/"
        },
        "id": "rbfHoj9KJD4M",
        "outputId": "69e99b10-9696-4d05-8716-64af2b2ba745"
      },
      "execution_count": 31,
      "outputs": [
        {
          "output_type": "execute_result",
          "data": {
            "text/plain": [
              "array([3, 4, 5, 6])"
            ]
          },
          "metadata": {},
          "execution_count": 31
        }
      ]
    },
    {
      "cell_type": "markdown",
      "source": [
        "30. Slice the 2D NumPy array to extract the sub-array `[[2, 3], [5, 6]]` from the given array.\n",
        "<br>\n",
        "\n",
        " ```\n",
        " arr_2d = np.array([[1, 2, 3],\n",
        "                      [4, 5, 6],\n",
        "                      [7, 8, 9]])\n",
        "```\n",
        "\n"
      ],
      "metadata": {
        "id": "Rh1Z9Gt9Jv4s"
      }
    },
    {
      "cell_type": "code",
      "source": [
        "arr_2d[:2,1:]"
      ],
      "metadata": {
        "colab": {
          "base_uri": "https://localhost:8080/"
        },
        "id": "3jDooWn3J-AE",
        "outputId": "b048fd86-7881-41c9-dc5e-ece974d18e62"
      },
      "execution_count": 32,
      "outputs": [
        {
          "output_type": "execute_result",
          "data": {
            "text/plain": [
              "array([[2, 3],\n",
              "       [5, 6]])"
            ]
          },
          "metadata": {},
          "execution_count": 32
        }
      ]
    },
    {
      "cell_type": "markdown",
      "source": [
        "31. Write a NumPy function to extract elements in specific order from a given 2D array based on indices provided in another array.\n",
        "\n"
      ],
      "metadata": {
        "id": "QhyHVK76Kblp"
      }
    },
    {
      "cell_type": "code",
      "source": [
        "def extract_elements(array, indices):\n",
        "     # Ensure indices are integer type\n",
        "    indices = indices.astype(int)\n",
        "\n",
        "    # Extract elements using advanced indexing\n",
        "    extracted_elements = array[indices[:, 0], indices[:, 1]]\n",
        "\n",
        "    return extracted_elements\n",
        "\n",
        "# Example usage\n",
        "array = np.array([[1, 2, 3], [4, 5, 6], [7, 8, 9]])\n",
        "indices = np.array([[0, 1], [1, 2], [2, 0]])\n",
        "\n",
        "extracted_elements = extract_elements(array, indices)\n",
        "print(extracted_elements)"
      ],
      "metadata": {
        "colab": {
          "base_uri": "https://localhost:8080/"
        },
        "id": "OBFjTNLxOWbm",
        "outputId": "4d49e228-432d-4160-f836-6bc1a829e054"
      },
      "execution_count": 34,
      "outputs": [
        {
          "output_type": "stream",
          "name": "stdout",
          "text": [
            "[2 6 7]\n"
          ]
        }
      ]
    },
    {
      "cell_type": "markdown",
      "source": [
        "32. Create a NumPy function that filters elements greater than a threshold from a given 1D array using boolean indexing."
      ],
      "metadata": {
        "id": "g83Kj2KrOsJK"
      }
    },
    {
      "cell_type": "code",
      "source": [
        "def filter_elements(arr, threshold):\n",
        "  return arr[arr>threshold]\n",
        "\n",
        "filter_elements(np.array([1, 2, 3, 4, 5]), 3)"
      ],
      "metadata": {
        "colab": {
          "base_uri": "https://localhost:8080/"
        },
        "id": "cW618s8POhnI",
        "outputId": "5bc70845-5046-42a6-d816-870e872b6338"
      },
      "execution_count": 35,
      "outputs": [
        {
          "output_type": "execute_result",
          "data": {
            "text/plain": [
              "array([4, 5])"
            ]
          },
          "metadata": {},
          "execution_count": 35
        }
      ]
    },
    {
      "cell_type": "markdown",
      "source": [
        "33. Develop a NumPy function that extracts specific elements from a 3D array using indices provided in three separate arrays for each dimension."
      ],
      "metadata": {
        "id": "01pQRH1qPTOH"
      }
    },
    {
      "cell_type": "code",
      "source": [
        "def extract_elements_3d(array, x_indices, y_indices, z_indices):\n",
        "\n",
        "    # Ensure indices are integer type\n",
        "    x_indices = x_indices.astype(int)\n",
        "    y_indices = y_indices.astype(int)\n",
        "    z_indices = z_indices.astype(int)\n",
        "\n",
        "    # Extract elements using advanced indexing\n",
        "    extracted_elements = array[x_indices, y_indices, z_indices]\n",
        "\n",
        "    return extracted_elements\n",
        "\n",
        "# Example usage\n",
        "array = np.arange(27).reshape(3, 3, 3)\n",
        "x_indices = np.array([0, 1, 2])\n",
        "y_indices = np.array([1, 2, 0])\n",
        "z_indices = np.array([2, 0, 1])\n",
        "\n",
        "extracted_elements = extract_elements_3d(array, x_indices, y_indices, z_indices)\n",
        "print(extracted_elements)"
      ],
      "metadata": {
        "colab": {
          "base_uri": "https://localhost:8080/"
        },
        "id": "32dEwJhnPSbe",
        "outputId": "0c3a15dd-f39b-4cf1-b9c7-978c200d92b7"
      },
      "execution_count": 36,
      "outputs": [
        {
          "output_type": "stream",
          "name": "stdout",
          "text": [
            "[ 5 15 19]\n"
          ]
        }
      ]
    },
    {
      "cell_type": "markdown",
      "source": [
        "34. Write a NumPy function that returns elements from an array where both two conditions are satisfied using boolean indexing."
      ],
      "metadata": {
        "id": "E_nsomyDTH3m"
      }
    },
    {
      "cell_type": "code",
      "source": [
        "def conditions(array, condition1, condition2):\n",
        "\n",
        "    # Bothe condition should satisfied\n",
        "    extracted_elements = array[condition1 & condition2]\n",
        "\n",
        "    return extracted_elements\n",
        "\n",
        "array = np.array([[1, 2, 3], [4, 5, 6], [7, 8, 9]])\n",
        "condition1 = array > 2\n",
        "condition2 = array % 2 == 0\n",
        "\n",
        "extracted_elements = conditions(array, condition1, condition2)\n",
        "print(extracted_elements)"
      ],
      "metadata": {
        "colab": {
          "base_uri": "https://localhost:8080/"
        },
        "id": "319DRqn2TPuV",
        "outputId": "a565c5f1-cb45-463f-9996-93b39b94b69a"
      },
      "execution_count": 37,
      "outputs": [
        {
          "output_type": "stream",
          "name": "stdout",
          "text": [
            "[4 6 8]\n"
          ]
        }
      ]
    },
    {
      "cell_type": "markdown",
      "source": [
        "35. Create a NumPy function that extracts elements from a 2D array using row and column indices provided in separate arrays."
      ],
      "metadata": {
        "id": "cqIOl-1SR9Fs"
      }
    },
    {
      "cell_type": "code",
      "source": [
        "def extract_elements_by_indices(array, row_indices, col_indices):\n",
        "\n",
        "    if row_indices.shape != col_indices.shape:\n",
        "        raise ValueError(\"row_indices and col_indices must have the same length\")\n",
        "\n",
        "    # Extract elements using advanced indexing\n",
        "    extracted_elements = array[row_indices, col_indices]\n",
        "\n",
        "    return extracted_elements\n",
        "\n",
        "array = np.array([[1, 2, 3], [4, 5, 6], [7, 8, 9]])\n",
        "row_indices = np.array([0, 1, 2])\n",
        "col_indices = np.array([1, 2, 0])\n",
        "\n",
        "extracted_elements = extract_elements_by_indices(array, row_indices, col_indices)\n",
        "print(extracted_elements)"
      ],
      "metadata": {
        "colab": {
          "base_uri": "https://localhost:8080/"
        },
        "id": "MgFx3pa8T1pI",
        "outputId": "bf1c4626-443b-42b2-e169-d1b19dd14e92"
      },
      "execution_count": 38,
      "outputs": [
        {
          "output_type": "stream",
          "name": "stdout",
          "text": [
            "[2 6 7]\n"
          ]
        }
      ]
    },
    {
      "cell_type": "markdown",
      "source": [
        "36. Given an array arr of shape (3, 3), add a scalar value of 5 to each element using NumPy broadcasting."
      ],
      "metadata": {
        "id": "qkUwOFjugIIm"
      }
    },
    {
      "cell_type": "code",
      "source": [
        "arr = np.array([[1,2,3],[4,5,6],[7,8,9]])\n",
        "arr+5"
      ],
      "metadata": {
        "colab": {
          "base_uri": "https://localhost:8080/"
        },
        "id": "RPXA0pIPR9ZB",
        "outputId": "2b37af78-cb69-4c37-d9a4-978449eac6f5"
      },
      "execution_count": 39,
      "outputs": [
        {
          "output_type": "execute_result",
          "data": {
            "text/plain": [
              "array([[ 6,  7,  8],\n",
              "       [ 9, 10, 11],\n",
              "       [12, 13, 14]])"
            ]
          },
          "metadata": {},
          "execution_count": 39
        }
      ]
    },
    {
      "cell_type": "markdown",
      "source": [
        "37. Consider two arrays arr1 of shape (1, 3) and arr2 of shape (3, 4). Multiply each row of arr2 by the\n",
        "corresponding element in arr1 using NumPy broadcasting."
      ],
      "metadata": {
        "id": "t3ZiGCjPgRyD"
      }
    },
    {
      "cell_type": "code",
      "source": [
        "arr1 = np.array([[10,20,30]])\n",
        "arr2 = np.array([[1,2,3,4],[5,6,7,8],[9,10,11,12]])\n",
        "# first row of arr2 to arr1[0]\n",
        "# 2nd row to arr1[1]\n",
        "# 3rd row of arr2 to arr1[2]\n",
        "arr2*arr1.T"
      ],
      "metadata": {
        "colab": {
          "base_uri": "https://localhost:8080/"
        },
        "id": "ll0GQehqgR_M",
        "outputId": "c691cb3e-1a5b-4b9a-a8c4-18e18ed08e53"
      },
      "execution_count": 40,
      "outputs": [
        {
          "output_type": "execute_result",
          "data": {
            "text/plain": [
              "array([[ 10,  20,  30,  40],\n",
              "       [100, 120, 140, 160],\n",
              "       [270, 300, 330, 360]])"
            ]
          },
          "metadata": {},
          "execution_count": 40
        }
      ]
    },
    {
      "cell_type": "markdown",
      "source": [
        "\n",
        "38. Given a 1D array arr1 of shape (1, 4) and a 2D array arr2 of shape (4, 3), add arr1 to each row of arr2 using\n",
        "NumPy broadcasting."
      ],
      "metadata": {
        "id": "wqsNSfaggSUQ"
      }
    },
    {
      "cell_type": "code",
      "source": [
        "arr1 = np.array([[1,2,3,4]])\n",
        "arr2 = np.array([[10,20, 30],[40, 50, 60], [70, 80, 90], [100, 110,  120]])\n",
        "arr2+arr1.T"
      ],
      "metadata": {
        "colab": {
          "base_uri": "https://localhost:8080/"
        },
        "id": "430g3BvKgSjv",
        "outputId": "66cb2b17-d8d0-4b54-bc32-24a2b62c07cd"
      },
      "execution_count": 41,
      "outputs": [
        {
          "output_type": "execute_result",
          "data": {
            "text/plain": [
              "array([[ 11,  21,  31],\n",
              "       [ 42,  52,  62],\n",
              "       [ 73,  83,  93],\n",
              "       [104, 114, 124]])"
            ]
          },
          "metadata": {},
          "execution_count": 41
        }
      ]
    },
    {
      "cell_type": "markdown",
      "source": [
        "39. Consider two arrays arr1 of shape (3, 1) and arr2 of shape (1, 3). Add these arrays using NumPy broadcasting.de\n",
        "\n",
        "\n"
      ],
      "metadata": {
        "id": "7DmTX1bIgSwV"
      }
    },
    {
      "cell_type": "code",
      "source": [
        "arr1 = np.array([[1,2,3]])\n",
        "arr2 = np.array([[10], [20], [30]])\n",
        "arr1+arr2"
      ],
      "metadata": {
        "colab": {
          "base_uri": "https://localhost:8080/"
        },
        "id": "yB1H8ZPogS-4",
        "outputId": "094aa7a1-95da-464f-cddb-12297e8203ad"
      },
      "execution_count": 42,
      "outputs": [
        {
          "output_type": "execute_result",
          "data": {
            "text/plain": [
              "array([[11, 12, 13],\n",
              "       [21, 22, 23],\n",
              "       [31, 32, 33]])"
            ]
          },
          "metadata": {},
          "execution_count": 42
        }
      ]
    },
    {
      "cell_type": "markdown",
      "source": [
        "40. Given arrays arr1 of shape (2, 3) and arr2 of shape (2, 2), perform multiplication using NumPy\n",
        "broadcasting. Handle the shape incompatibility."
      ],
      "metadata": {
        "id": "PkqMMJCHgTMA"
      }
    },
    {
      "cell_type": "code",
      "source": [
        "# Given arrays\n",
        "arr1 = np.array([[1, 2, 3], [4, 5, 6]])\n",
        "arr2 = np.array([[7, 8], [9, 10]])\n",
        "\n",
        "arr2_reshaped = arr2[:, :, np.newaxis]\n",
        "\n",
        "result = arr1[:, np.newaxis, :] * arr2_reshaped\n",
        "\n",
        "print(result)"
      ],
      "metadata": {
        "colab": {
          "base_uri": "https://localhost:8080/"
        },
        "id": "X_d_soe8jKks",
        "outputId": "8c32eb88-f9fd-487e-f49b-3c0aa0096843"
      },
      "execution_count": 43,
      "outputs": [
        {
          "output_type": "stream",
          "name": "stdout",
          "text": [
            "[[[ 7 14 21]\n",
            "  [ 8 16 24]]\n",
            "\n",
            " [[36 45 54]\n",
            "  [40 50 60]]]\n"
          ]
        }
      ]
    },
    {
      "cell_type": "markdown",
      "source": [
        "41. Calculate column wise mean for the given array."
      ],
      "metadata": {
        "id": "g8GfVSYwjdmC"
      }
    },
    {
      "cell_type": "code",
      "source": [
        "arr = np.array([[1,4,7], [2,5,8], [3,6,9]])\n",
        "# mean \"across\" axis 0 is column wise mean\n",
        "np.mean(arr, axis=0)"
      ],
      "metadata": {
        "colab": {
          "base_uri": "https://localhost:8080/"
        },
        "id": "u8Z5FnMljdz7",
        "outputId": "a1685b92-a68e-4d2f-f9c3-220426aee044"
      },
      "execution_count": 44,
      "outputs": [
        {
          "output_type": "execute_result",
          "data": {
            "text/plain": [
              "array([2., 5., 8.])"
            ]
          },
          "metadata": {},
          "execution_count": 44
        }
      ]
    },
    {
      "cell_type": "markdown",
      "source": [
        "42. Find maximum value in each row of the given array."
      ],
      "metadata": {
        "id": "BUJAELKljeA2"
      }
    },
    {
      "cell_type": "code",
      "source": [
        "np.max(arr, axis=1)"
      ],
      "metadata": {
        "colab": {
          "base_uri": "https://localhost:8080/"
        },
        "id": "Hd3jAFaDjeNr",
        "outputId": "ac693f50-90ae-4a83-da38-f85f181033ec"
      },
      "execution_count": 45,
      "outputs": [
        {
          "output_type": "execute_result",
          "data": {
            "text/plain": [
              "array([7, 8, 9])"
            ]
          },
          "metadata": {},
          "execution_count": 45
        }
      ]
    },
    {
      "cell_type": "markdown",
      "source": [
        "43. For the given array, find indices of maximum value in each column.\n"
      ],
      "metadata": {
        "id": "rzN3MqHcjelC"
      }
    },
    {
      "cell_type": "code",
      "source": [
        "np.argmax(arr, axis=0) #"
      ],
      "metadata": {
        "colab": {
          "base_uri": "https://localhost:8080/"
        },
        "id": "gIRTXXsrjezO",
        "outputId": "85419ddd-0e95-4da0-b336-fc38957b6652"
      },
      "execution_count": 47,
      "outputs": [
        {
          "output_type": "execute_result",
          "data": {
            "text/plain": [
              "array([2, 2, 2])"
            ]
          },
          "metadata": {},
          "execution_count": 47
        }
      ]
    },
    {
      "cell_type": "markdown",
      "source": [
        "\n",
        "44. For the given array, apply custom function to calculate moving sum along rows."
      ],
      "metadata": {
        "id": "QAGWhcRzjfAG"
      }
    },
    {
      "cell_type": "code",
      "source": [],
      "metadata": {
        "id": "y_r67hrkooGx"
      },
      "execution_count": null,
      "outputs": []
    },
    {
      "cell_type": "markdown",
      "source": [
        "45. In the given array, check if all elements in each column are even.\n",
        "\n",
        "```\n",
        "arr = np.array([[1, 2, 3], [4, 5, 6]])\n",
        "```\n"
      ],
      "metadata": {
        "id": "nFj9uGffolpD"
      }
    },
    {
      "cell_type": "code",
      "source": [
        "arr = np.array([[1, 2, 3], [4, 5, 6]])\n",
        "\n",
        "# Check if all elements in each column are even\n",
        "np.all(arr % 2 == 0, axis=0)"
      ],
      "metadata": {
        "colab": {
          "base_uri": "https://localhost:8080/"
        },
        "id": "1DuJV5hxol3N",
        "outputId": "f61eebed-65ad-42b3-ec85-a2ce521ecd06"
      },
      "execution_count": 49,
      "outputs": [
        {
          "output_type": "execute_result",
          "data": {
            "text/plain": [
              "array([False, False, False])"
            ]
          },
          "metadata": {},
          "execution_count": 49
        }
      ]
    },
    {
      "cell_type": "markdown",
      "source": [
        "46. Given a NumPy array arr, reshape it into a matrix of dimensions `m` rows and `n` columns. Return the\n",
        "reshaped matrix.\n"
      ],
      "metadata": {
        "id": "jNRlwr7NomBX"
      }
    },
    {
      "cell_type": "code",
      "source": [
        "def reshape_matrix(arr, m, n):\n",
        "  return arr.reshape(m, n)\n",
        "\n",
        "reshape_matrix(np.arange(1, 13), 3, 4)"
      ],
      "metadata": {
        "colab": {
          "base_uri": "https://localhost:8080/"
        },
        "id": "waP7yLpUomMq",
        "outputId": "5506bcd0-fd35-4e36-b772-a205e5a833c3"
      },
      "execution_count": 50,
      "outputs": [
        {
          "output_type": "execute_result",
          "data": {
            "text/plain": [
              "array([[ 1,  2,  3,  4],\n",
              "       [ 5,  6,  7,  8],\n",
              "       [ 9, 10, 11, 12]])"
            ]
          },
          "metadata": {},
          "execution_count": 50
        }
      ]
    },
    {
      "cell_type": "markdown",
      "source": [
        "47. Create a function that takes a matrix as input and returns the flattened array."
      ],
      "metadata": {
        "id": "ZvQzPNt9omZO"
      }
    },
    {
      "cell_type": "code",
      "source": [
        "def flatten_matrix(matrix):\n",
        "  return matrix.flatten()\n",
        "input_matrix = np.array([[1, 2, 3], [4, 5, 6]])\n",
        "flatten_matrix(input_matrix)"
      ],
      "metadata": {
        "colab": {
          "base_uri": "https://localhost:8080/"
        },
        "id": "c-P3FTpdomwj",
        "outputId": "0adf3622-d3fd-4297-e832-36c0aaf138c7"
      },
      "execution_count": 51,
      "outputs": [
        {
          "output_type": "execute_result",
          "data": {
            "text/plain": [
              "array([1, 2, 3, 4, 5, 6])"
            ]
          },
          "metadata": {},
          "execution_count": 51
        }
      ]
    },
    {
      "cell_type": "markdown",
      "source": [
        "48. Write a function that concatenates two given arrays along a specified axis."
      ],
      "metadata": {
        "id": "WUJTvKiTqfLC"
      }
    },
    {
      "cell_type": "code",
      "source": [
        "def concatinate(arr1, arr2, axis):\n",
        "  return np.concatenate((arr1, arr2), axis)\n",
        "\n",
        "array1 = np.array([[1, 2], [3, 4]])\n",
        "array2 = np.array([[5, 6], [7, 8]])\n",
        "concatinate(a, b, 0)"
      ],
      "metadata": {
        "colab": {
          "base_uri": "https://localhost:8080/"
        },
        "id": "wH1Zl-g2jfN7",
        "outputId": "f7fbcd2b-6d25-49b2-b4da-0a3e7fbaf328"
      },
      "execution_count": 52,
      "outputs": [
        {
          "output_type": "execute_result",
          "data": {
            "text/plain": [
              "array([[1, 3],\n",
              "       [4, 7],\n",
              "       [7, 0]])"
            ]
          },
          "metadata": {},
          "execution_count": 52
        }
      ]
    },
    {
      "cell_type": "markdown",
      "source": [
        "49. Create a function that splits an array into multiple sub-arrays along a specified axis."
      ],
      "metadata": {
        "id": "TzRE4_KAq_Ye"
      }
    },
    {
      "cell_type": "code",
      "source": [
        "original_array = np.array([[1, 2, 3], [4, 5, 6], [7, 8, 9]])\n",
        "\n",
        "num_splits = 2\n",
        "split_array = np.array_split(original_array, num_splits, axis=1)\n",
        "for arr in split_array:\n",
        "    print(arr)\n",
        "    print()"
      ],
      "metadata": {
        "colab": {
          "base_uri": "https://localhost:8080/"
        },
        "id": "oUecAy4Nq_kz",
        "outputId": "71b3cd6a-50fc-4bc1-f939-014de7c4f87c"
      },
      "execution_count": 53,
      "outputs": [
        {
          "output_type": "stream",
          "name": "stdout",
          "text": [
            "[[1 2]\n",
            " [4 5]\n",
            " [7 8]]\n",
            "\n",
            "[[3]\n",
            " [6]\n",
            " [9]]\n",
            "\n"
          ]
        }
      ]
    },
    {
      "cell_type": "markdown",
      "source": [
        "50. Write a function that inserts and then deletes elements from a given array at specified indices.\n",
        "\n",
        "```\n",
        "original_array = np.array([1, 2, 3, 4, 5])\n",
        "indices_to_insert = [2, 4]\n",
        "values_to_insert = [10, 11]\n",
        "indices_to_delete = [1, 3]\n",
        "```"
      ],
      "metadata": {
        "id": "VqNlUvE-q_x4"
      }
    },
    {
      "cell_type": "code",
      "source": [
        "def insert_and_delete_elements(original_array, indices_to_insert, values_to_insert, indices_to_delete):\n",
        "  # Insert elements\n",
        "  new_array = np.insert(original_array, indices_to_insert, values_to_insert)\n",
        "\n",
        "  # Delete elements\n",
        "  new_array = np.delete(new_array, indices_to_delete)\n",
        "\n",
        "  return new_array\n",
        "\n",
        "original_array = np.array([1, 2, 3, 4, 5])\n",
        "indices_to_insert = [2, 4]\n",
        "values_to_insert = [10, 11]\n",
        "indices_to_delete = [1, 3]\n",
        "\n",
        "new_array = insert_and_delete_elements(original_array, indices_to_insert, values_to_insert, indices_to_delete)\n",
        "\n",
        "print(new_array)\n"
      ],
      "metadata": {
        "colab": {
          "base_uri": "https://localhost:8080/"
        },
        "id": "cGBYe_jLq_90",
        "outputId": "3e865f49-a377-44c6-e0d7-366c7966d670"
      },
      "execution_count": 54,
      "outputs": [
        {
          "output_type": "stream",
          "name": "stdout",
          "text": [
            "[ 1 10  4 11  5]\n"
          ]
        }
      ]
    },
    {
      "cell_type": "markdown",
      "source": [
        "51. Create a NumPy array `arr1` with random integers and another array `arr2` with integers from 1 to 10.\n",
        "Perform element-wise addition between `arr1` and `arr2`."
      ],
      "metadata": {
        "id": "4N58ZH7zrAMJ"
      }
    },
    {
      "cell_type": "code",
      "source": [
        "arr1 = np.random.randint(1, 101, size=(10,))\n",
        "arr2 = np.arange(1, 11)\n",
        "\n",
        "result = arr1 + arr2\n",
        "print(result)"
      ],
      "metadata": {
        "colab": {
          "base_uri": "https://localhost:8080/"
        },
        "id": "lxbandHarAcl",
        "outputId": "94ea2bf9-30be-4f88-93e4-94cc6af576a7"
      },
      "execution_count": 55,
      "outputs": [
        {
          "output_type": "stream",
          "name": "stdout",
          "text": [
            "[96 24 16 46 31 11 93 56 46 49]\n"
          ]
        }
      ]
    },
    {
      "cell_type": "markdown",
      "source": [
        "52. Generate a NumPy array `arr1` with sequential integers from 10 to 1 and another array `arr2` with integers\n",
        "from 1 to 10. Subtract `arr2` from `arr1` element-wise."
      ],
      "metadata": {
        "id": "KHCEMAoLrAry"
      }
    },
    {
      "cell_type": "code",
      "source": [
        "arr1 = np.arange(10, 0,-1)\n",
        "arr2 = np.arange(1, 11)\n",
        "result = arr1 - arr2\n",
        "print(\"arr1 is \",arr1)\n",
        "print(\"arr2 is \",arr2)\n",
        "print(\"result is \",result)"
      ],
      "metadata": {
        "colab": {
          "base_uri": "https://localhost:8080/"
        },
        "id": "x8EoXoilrA8W",
        "outputId": "407912f5-d532-4ea4-8e27-c7e147ba04e7"
      },
      "execution_count": 56,
      "outputs": [
        {
          "output_type": "stream",
          "name": "stdout",
          "text": [
            "arr1 is  [10  9  8  7  6  5  4  3  2  1]\n",
            "arr2 is  [ 1  2  3  4  5  6  7  8  9 10]\n",
            "result is  [ 9  7  5  3  1 -1 -3 -5 -7 -9]\n"
          ]
        }
      ]
    },
    {
      "cell_type": "markdown",
      "source": [
        "53. Create a NumPy array `arr1` with random integers and another array `arr2` with integers from 1 to 5.\n",
        "Perform element-wise multiplication between `arr1` and `arr2`."
      ],
      "metadata": {
        "id": "5Yi2-vivrBIl"
      }
    },
    {
      "cell_type": "code",
      "source": [
        "arr1 = np.random.randint(1, 101, size=(5,))\n",
        "arr2 = np.arange(1, 6)\n",
        "\n",
        "result = arr1 * arr2\n",
        "print(\"arr1 is \",arr1)\n",
        "print(\"arr2 is \",arr2)\n",
        "print(\"result is \",result)"
      ],
      "metadata": {
        "colab": {
          "base_uri": "https://localhost:8080/"
        },
        "id": "N7yHDc4SrB2b",
        "outputId": "61bc6626-2e2e-4243-eb7a-0ddc0a4f7dd9"
      },
      "execution_count": 57,
      "outputs": [
        {
          "output_type": "stream",
          "name": "stdout",
          "text": [
            "arr1 is  [49 50 25 79 87]\n",
            "arr2 is  [1 2 3 4 5]\n",
            "result is  [ 49 100  75 316 435]\n"
          ]
        }
      ]
    },
    {
      "cell_type": "markdown",
      "source": [
        "54. Generate a NumPy array `arr1` with even integers from 2 to 10 and another array `arr2` with integers from 1\n",
        "to 5. Perform element-wise division of `arr1` by `arr2`."
      ],
      "metadata": {
        "id": "RfMa79KMwfJ4"
      }
    },
    {
      "cell_type": "code",
      "source": [
        "arr1 = np.arange(2, 11, 2)\n",
        "arr2 = np.arange(1, 6)\n",
        "\n",
        "result = arr1 / arr2\n",
        "print(\"arr1 is \",arr1)\n",
        "print(\"arr2 is \",arr2)\n",
        "print(\"result is \",result)"
      ],
      "metadata": {
        "colab": {
          "base_uri": "https://localhost:8080/"
        },
        "id": "sqx-Awc4wfWQ",
        "outputId": "d0034b7d-9557-489b-cdcd-b7ff907a2588"
      },
      "execution_count": 58,
      "outputs": [
        {
          "output_type": "stream",
          "name": "stdout",
          "text": [
            "arr1 is  [ 2  4  6  8 10]\n",
            "arr2 is  [1 2 3 4 5]\n",
            "result is  [2. 2. 2. 2. 2.]\n"
          ]
        }
      ]
    },
    {
      "cell_type": "markdown",
      "source": [
        "55. Create a NumPy array `arr1` with integers from 1 to 5 and another array `arr2` with the same numbers\n",
        "reversed. Calculate the exponentiation of `arr1` raised to the power of `arr2` element-wise"
      ],
      "metadata": {
        "id": "2JeUCQKmwfjw"
      }
    },
    {
      "cell_type": "code",
      "source": [
        "arr1 = np.arange(1, 6)\n",
        "arr2 = np.arange(5, 0,-1)\n",
        "result = arr1 ** arr2\n",
        "print(\"arr1 is \", arr1)\n",
        "print(\"arr2 is \", arr2)\n",
        "print(\"result is \" ,result)"
      ],
      "metadata": {
        "colab": {
          "base_uri": "https://localhost:8080/"
        },
        "id": "VTYw9wMSwiEf",
        "outputId": "df8ff035-3fe7-4956-fa8c-67f9654447a0"
      },
      "execution_count": 59,
      "outputs": [
        {
          "output_type": "stream",
          "name": "stdout",
          "text": [
            "arr1 is  [1 2 3 4 5]\n",
            "arr2 is  [5 4 3 2 1]\n",
            "result is  [ 1 16 27 16  5]\n"
          ]
        }
      ]
    },
    {
      "cell_type": "markdown",
      "source": [
        "\n",
        "56. Write a function that counts the occurrences of a specific substring within a NumPy array of strings."
      ],
      "metadata": {
        "id": "sXOrZ4EXwiRh"
      }
    },
    {
      "cell_type": "code",
      "source": [
        "def count_substring_occurrences(arr, substring):\n",
        "    # elem will one if it is substring  else 0\n",
        "    occurrences = np.char.count(arr, substring)\n",
        "    total_occurrences = np.sum(occurrences)\n",
        "\n",
        "    return total_occurrences\n",
        "\n",
        "# Example usage\n",
        "arr = np.array(['hello', 'world', 'hello', 'numpy', 'hello'])\n",
        "substring = \"world\"\n",
        "\n",
        "total_occurrences = count_substring_occurrences(arr, substring)\n",
        "print(total_occurrences)\n"
      ],
      "metadata": {
        "colab": {
          "base_uri": "https://localhost:8080/"
        },
        "id": "OcBkwBBGwiei",
        "outputId": "fce4a26f-ba8c-4d37-facd-d2775b9494b2"
      },
      "execution_count": 61,
      "outputs": [
        {
          "output_type": "stream",
          "name": "stdout",
          "text": [
            "1\n"
          ]
        }
      ]
    },
    {
      "cell_type": "markdown",
      "source": [
        "57. Write a function that extracts uppercase characters from a NumPy array of strings.\n",
        "\n",
        "arr = np.array(['Hello', 'World', 'OpenAI', 'GPT'])\n"
      ],
      "metadata": {
        "id": "v_1L9uw6wiqg"
      }
    },
    {
      "cell_type": "code",
      "source": [
        "def extract_uppercase(arr):\n",
        "  arr_list = arr.tolist()\n",
        "  uppercase_chars = []\n",
        "\n",
        "  for string in arr_list:\n",
        "    for char in string:\n",
        "      if char.isupper():\n",
        "        uppercase_chars.append(char)\n",
        "  return uppercase_chars\n",
        "\n",
        "arr = np.array(['Hello', 'World', 'OpenAI', 'GPT'])\n",
        "uppercase_chars = extract_uppercase(arr)\n",
        "print(uppercase_chars)"
      ],
      "metadata": {
        "colab": {
          "base_uri": "https://localhost:8080/"
        },
        "id": "8gM9WoY10mZD",
        "outputId": "51900b57-0f09-4e53-9be5-2fb07d1b3c96"
      },
      "execution_count": 62,
      "outputs": [
        {
          "output_type": "stream",
          "name": "stdout",
          "text": [
            "['H', 'W', 'O', 'A', 'I', 'G', 'P', 'T']\n"
          ]
        }
      ]
    },
    {
      "cell_type": "markdown",
      "source": [
        "\n",
        "58. Write a function that replaces occurrences of a substring in a NumPy array of strings with a new string."
      ],
      "metadata": {
        "id": "UOUmhmIQwjH7"
      }
    },
    {
      "cell_type": "code",
      "source": [
        "arr = np.array(['apple', 'banana', 'grape', 'pineapple'])\n",
        "old_substring = 'apple'\n",
        "new_substring = 'orange'\n",
        "replaced_strings = np.char.replace(arr, old_substring, new_substring)\n",
        "print(replaced_strings)"
      ],
      "metadata": {
        "colab": {
          "base_uri": "https://localhost:8080/"
        },
        "id": "cXpQo4iawjVO",
        "outputId": "549b4705-e2ce-4e3c-b855-1d5fab5d3594"
      },
      "execution_count": 63,
      "outputs": [
        {
          "output_type": "stream",
          "name": "stdout",
          "text": [
            "['orange' 'banana' 'grape' 'pineorange']\n"
          ]
        }
      ]
    },
    {
      "cell_type": "markdown",
      "source": [
        "59. Write a function that concatenates strings in a NumPy array element-wise."
      ],
      "metadata": {
        "id": "TzC46gdT6eJi"
      }
    },
    {
      "cell_type": "code",
      "source": [
        "arr1 = np.array(['Hello', 'World'])\n",
        "arr2 = np.array(['Open', 'AI'])\n",
        "\n",
        "# Use numpy.char.add to concatenate strings element-wise\n",
        "concatenated_array = np.char.add(arr1, arr2)\n",
        "print(concatenated_array)"
      ],
      "metadata": {
        "colab": {
          "base_uri": "https://localhost:8080/"
        },
        "id": "CwdFdXgn6eVB",
        "outputId": "72f7d367-685a-4ff7-8805-8756b3016234"
      },
      "execution_count": 64,
      "outputs": [
        {
          "output_type": "stream",
          "name": "stdout",
          "text": [
            "['HelloOpen' 'WorldAI']\n"
          ]
        }
      ]
    },
    {
      "cell_type": "markdown",
      "source": [
        "60. Write a function that finds the length of the longest string in a NumPy array.\n",
        "\n"
      ],
      "metadata": {
        "id": "TJxg5J8n67NF"
      }
    },
    {
      "cell_type": "code",
      "source": [
        "arr = np.array(['apple', 'banana', 'grape', 'pineapple'])\n",
        "string_lengths = np.char.str_len(arr)\n",
        "\n",
        "# Find the maximum length\n",
        "max_length = np.max(string_lengths)\n",
        "print(max_length)"
      ],
      "metadata": {
        "colab": {
          "base_uri": "https://localhost:8080/"
        },
        "id": "YnP3RYou67aJ",
        "outputId": "92b4297e-7b0d-4684-da5f-2e1f82bb5742"
      },
      "execution_count": 65,
      "outputs": [
        {
          "output_type": "stream",
          "name": "stdout",
          "text": [
            "9\n"
          ]
        }
      ]
    },
    {
      "cell_type": "markdown",
      "source": [
        "61. Create a dataset of 100 random integers between 1 and 1000. Compute the mean, median, variance, and\n",
        "standard deviation of the dataset using NumPy's functions."
      ],
      "metadata": {
        "id": "9ST_UY6u67n5"
      }
    },
    {
      "cell_type": "code",
      "source": [
        "import numpy as np\n",
        "\n",
        "# Generate the dataset of 100 random integers between 1 and 1000\n",
        "dataset = np.random.randint(1, 1001, size=100)\n",
        "\n",
        "mean = np.mean(dataset)\n",
        "median = np.median(dataset)\n",
        "variance = np.var(dataset)\n",
        "std_deviation = np.std(dataset) # np.sqrt(variance)\n",
        "\n",
        "# Print the results\n",
        "print(\"Dataset:\", dataset)\n",
        "print(\"Mean:\", mean)\n",
        "print(\"Median:\", median)\n",
        "print(\"Variance:\", variance)\n",
        "print(\"Standard Deviation:\", std_deviation)"
      ],
      "metadata": {
        "colab": {
          "base_uri": "https://localhost:8080/"
        },
        "id": "164ivLmr671P",
        "outputId": "e8e17c0c-3d3e-48a1-8bd4-fe2949a46cbf"
      },
      "execution_count": 66,
      "outputs": [
        {
          "output_type": "stream",
          "name": "stdout",
          "text": [
            "Dataset: [465 928  93 989 725 606 289 666 971 732  27  14  79 683 750 552 623 482\n",
            " 918 303 381 321 257 513 864 587 636 176 374 538 855 595 476  12  10 999\n",
            " 808 737 131 423 125 210 995  92 588 176 219 902 687 540 900 158  56 851\n",
            "  66 322 746 635 537 748 355 183  17 645  57 535 974 175 523 715 445 392\n",
            " 357 432 569 834 732 872 686  45 617 519 652 786 279 681 883 665 609 587\n",
            " 192 166 870 130 392 661 240 492 931 513]\n",
            "Mean: 505.49\n",
            "Median: 537.5\n",
            "Variance: 81934.86989999999\n",
            "Standard Deviation: 286.2426765875417\n"
          ]
        }
      ]
    },
    {
      "cell_type": "markdown",
      "source": [
        "62. Generate an array of 50 random numbers between 1 and 100. Find the 25th and 75th percentiles of the\n",
        "dataset."
      ],
      "metadata": {
        "id": "XAK17U_m-UPW"
      }
    },
    {
      "cell_type": "code",
      "source": [
        "import numpy as np\n",
        "\n",
        "# Generate an array of 50 random numbers between 1 and 100\n",
        "dataset = np.random.randint(1, 101, size=50)\n",
        "\n",
        "# Find the 25th and 75th percentiles of the dataset\n",
        "percentile_25 = np.percentile(dataset, 25)\n",
        "percentile_75 = np.percentile(dataset, 75)\n",
        "\n",
        "# Print the results\n",
        "print(\"Dataset:\", dataset)\n",
        "print(\"25th Percentile:\", percentile_25)\n",
        "print(\"75th Percentile:\", percentile_75)"
      ],
      "metadata": {
        "colab": {
          "base_uri": "https://localhost:8080/"
        },
        "id": "SBjnd9Kk-kry",
        "outputId": "b5c85d10-de5b-4cf1-ea4f-aa5236828ec7"
      },
      "execution_count": 67,
      "outputs": [
        {
          "output_type": "stream",
          "name": "stdout",
          "text": [
            "Dataset: [59 48 39 57 13 12  9  7 52 68 49 70 24 18 94 93 35 80 51 26 39 98 22 60\n",
            " 55 42 41 30 31 49 55 93 37 34 52 69 81 21 76  7 63 53 56 32  8 46 46 62\n",
            " 22 41]\n",
            "25th Percentile: 30.25\n",
            "75th Percentile: 59.75\n"
          ]
        }
      ]
    },
    {
      "cell_type": "markdown",
      "source": [
        "63. Create two arrays representing two sets of variables. Compute the correlation coefficient between these\n",
        "arrays using NumPy's `corrcoef` function."
      ],
      "metadata": {
        "id": "P9ILWXR768B-"
      }
    },
    {
      "cell_type": "code",
      "source": [
        "import numpy as np\n",
        "\n",
        "array1 = np.random.randint(0, 101, size=10)\n",
        "array2 = np.random.randint(0, 101, size=10)\n",
        "\n",
        "correlation_matrix = np.corrcoef(array1, array2)\n",
        "\n",
        "print(correlation_matrix)\n",
        "\n",
        "correlation_coefficient = correlation_matrix[0, 1] #\n",
        "\n",
        "print(f\"The correlation coefficient between the two arrays is: {correlation_coefficient:.2f}\")"
      ],
      "metadata": {
        "id": "yyjM5Q4Y68Pz",
        "colab": {
          "base_uri": "https://localhost:8080/"
        },
        "outputId": "06ba8f9d-acad-42c4-cc41-140995daf311"
      },
      "execution_count": 74,
      "outputs": [
        {
          "output_type": "stream",
          "name": "stdout",
          "text": [
            "[[1.         0.18058393]\n",
            " [0.18058393 1.        ]]\n",
            "The correlation coefficient between the two arrays is: 0.18\n"
          ]
        }
      ]
    },
    {
      "cell_type": "markdown",
      "source": [
        "64. Create two matrices and perform matrix multiplication using NumPy's `dot` function.\n"
      ],
      "metadata": {
        "id": "yoJmfJFK68b0"
      }
    },
    {
      "cell_type": "code",
      "source": [
        "import numpy as np\n",
        "\n",
        "matrix1 = np.random.randint(0, 10, size=(3, 3))\n",
        "matrix2 = np.random.randint(0, 10, size=(3, 3))\n",
        "\n",
        "# Perform matrix multiplication using np.dot\n",
        "result = np.dot(matrix1, matrix2)\n",
        "\n",
        "# Display the matrices and the result\n",
        "print(\"Matrix 1:\")\n",
        "print(matrix1)\n",
        "print(\"\\nMatrix 2:\")\n",
        "print(matrix2)\n",
        "print(\"\\nResult of Matrix Multiplication:\")\n",
        "print(result)\n"
      ],
      "metadata": {
        "id": "rYwE4JSB68nS",
        "colab": {
          "base_uri": "https://localhost:8080/"
        },
        "outputId": "916fa9e2-664d-45b5-f0b0-e925e7376306"
      },
      "execution_count": 77,
      "outputs": [
        {
          "output_type": "stream",
          "name": "stdout",
          "text": [
            "Matrix 1:\n",
            "[[2 1 2]\n",
            " [5 7 0]\n",
            " [6 1 1]]\n",
            "\n",
            "Matrix 2:\n",
            "[[8 4 9]\n",
            " [9 4 4]\n",
            " [0 1 8]]\n",
            "\n",
            "Result of Matrix Multiplication:\n",
            "[[ 25  14  38]\n",
            " [103  48  73]\n",
            " [ 57  29  66]]\n"
          ]
        }
      ]
    },
    {
      "cell_type": "markdown",
      "source": [
        "65. Create an array of 50 integers between 10 and 1000. Calculate the 10th, 50th (median), and 90th percentiles along with the first and third quartiles."
      ],
      "metadata": {
        "id": "dqzX9iaP-NuJ"
      }
    },
    {
      "cell_type": "code",
      "source": [
        "array = np.random.randint(10, 1001, size=50)\n",
        "\n",
        "percentile_10th = np.percentile(array, 10)\n",
        "median = np.percentile(array, 50)\n",
        "percentile_90th = np.percentile(array, 90)\n",
        "first_quartile = np.percentile(array, 25)\n",
        "third_quartile = np.percentile(array, 75)\n",
        "\n",
        "print(f\"Array: {array}\")\n",
        "print()\n",
        "print(f\"sorted form of array is : {np.sort(array)}\")\n",
        "print()\n",
        "print(f\"10th Percentile: {percentile_10th}\")\n",
        "print(f\"First Quartile: {first_quartile}\")\n",
        "print(f\"50th Percentile (Median): {median}\")\n",
        "print(f\"Third Quartile: {third_quartile}\")\n",
        "print(f\"90th Percentile: {percentile_90th}\")"
      ],
      "metadata": {
        "colab": {
          "base_uri": "https://localhost:8080/"
        },
        "id": "wwNQDGe0-Ljk",
        "outputId": "38a4f277-a9b6-4875-9009-478b17801b6f"
      },
      "execution_count": 82,
      "outputs": [
        {
          "output_type": "stream",
          "name": "stdout",
          "text": [
            "Array: [982 485 572 577 221 478 113 174 472 262 951 183 278 928 500 635 604 115\n",
            " 740 863 706 856 333 991 147 555 474 320 493 804 764 593 127 528 761 209\n",
            " 112 374  36 126 974 623 902 199 586  33 115 100 880 495]\n",
            "\n",
            "sorted form of array is : [ 33  36 100 112 113 115 115 126 127 147 174 183 199 209 221 262 278 320\n",
            " 333 374 472 474 478 485 493 495 500 528 555 572 577 586 593 604 623 635\n",
            " 706 740 761 764 804 856 863 880 902 928 951 974 982 991]\n",
            "\n",
            "10th Percentile: 114.8\n",
            "First Quartile: 201.5\n",
            "50th Percentile (Median): 494.0\n",
            "Third Quartile: 731.5\n",
            "90th Percentile: 904.6\n"
          ]
        }
      ]
    },
    {
      "cell_type": "markdown",
      "source": [
        "66. Create a NumPy array of integers and find the index of a specific element.\n"
      ],
      "metadata": {
        "id": "O9rEN1PW-Lzq"
      }
    },
    {
      "cell_type": "code",
      "source": [
        "array = np.array([10, 20, 30, 40, 50, 60, 70, 80, 50, 100])\n",
        "\n",
        "element_to_find = 50\n",
        "\n",
        "\n",
        "indices = np.where(array == element_to_find)\n",
        "\n",
        "print(\"Array:\", array)\n",
        "print(f\"Index of element {element_to_find}:\", indices[0])"
      ],
      "metadata": {
        "colab": {
          "base_uri": "https://localhost:8080/"
        },
        "id": "7-wp0D86-MCT",
        "outputId": "d9b79c14-771b-469d-e64b-c3612aa90636"
      },
      "execution_count": 84,
      "outputs": [
        {
          "output_type": "stream",
          "name": "stdout",
          "text": [
            "Array: [ 10  20  30  40  50  60  70  80  50 100]\n",
            "Index of element 50: [4 8]\n"
          ]
        }
      ]
    },
    {
      "cell_type": "markdown",
      "source": [
        "67. Generate a random NumPy array and sort it in ascending order.\n"
      ],
      "metadata": {
        "id": "jnGTbSa7-MO7"
      }
    },
    {
      "cell_type": "code",
      "source": [
        "array = np.random.randint(0, 100, size=10)\n",
        "\n",
        "# Sort the array in ascending order\n",
        "sorted_array = np.sort(array)\n",
        "\n",
        "# Print the original and sorted arrays\n",
        "print(\"Original array:\", array)\n",
        "print(\"Sorted array:\", sorted_array)"
      ],
      "metadata": {
        "colab": {
          "base_uri": "https://localhost:8080/"
        },
        "id": "awUjAzCV-Mci",
        "outputId": "0550754e-d013-489e-99b1-553fee7ac9c7"
      },
      "execution_count": 86,
      "outputs": [
        {
          "output_type": "stream",
          "name": "stdout",
          "text": [
            "Original array: [70 39 22 12  7 92 17 37 27 86]\n",
            "Sorted array: [ 7 12 17 22 27 37 39 70 86 92]\n"
          ]
        }
      ]
    },
    {
      "cell_type": "markdown",
      "source": [
        "68. Filter elements >20  in the given NumPy array.\n"
      ],
      "metadata": {
        "id": "MX568ry6-Mqn"
      }
    },
    {
      "cell_type": "code",
      "source": [
        "arr = np.array([12, 25, 6, 42, 8, 30])\n",
        "arr[arr>20]"
      ],
      "metadata": {
        "colab": {
          "base_uri": "https://localhost:8080/"
        },
        "id": "3FklsepWDzo6",
        "outputId": "198f1788-a0f5-45d1-ac33-d7554e41f4c8"
      },
      "execution_count": 89,
      "outputs": [
        {
          "output_type": "execute_result",
          "data": {
            "text/plain": [
              "array([25, 42, 30])"
            ]
          },
          "metadata": {},
          "execution_count": 89
        }
      ]
    },
    {
      "cell_type": "markdown",
      "source": [
        "69. Filter elements which are divisible by 3 from a given NumPy array.\n"
      ],
      "metadata": {
        "id": "xY2li30zEJrT"
      }
    },
    {
      "cell_type": "code",
      "source": [
        "arr = np.array([1, 5, 8, 12, 15])\n",
        "arr[arr%3==0]"
      ],
      "metadata": {
        "colab": {
          "base_uri": "https://localhost:8080/"
        },
        "id": "qw0uTeT4EHYB",
        "outputId": "26969e5f-7b49-4226-f7de-32e7beb8f202"
      },
      "execution_count": 90,
      "outputs": [
        {
          "output_type": "execute_result",
          "data": {
            "text/plain": [
              "array([12, 15])"
            ]
          },
          "metadata": {},
          "execution_count": 90
        }
      ]
    },
    {
      "cell_type": "markdown",
      "source": [
        "70. Filter elements which are ≥ 20 and ≤ 40 from a given NumPy array.\n"
      ],
      "metadata": {
        "id": "cUvRD2GWEHlE"
      }
    },
    {
      "cell_type": "code",
      "source": [
        "arr = np.array([10, 20, 30, 40, 50])\n",
        "arr[(arr>=20) & (arr<=40)]"
      ],
      "metadata": {
        "colab": {
          "base_uri": "https://localhost:8080/"
        },
        "id": "mnmHM9BVEH0J",
        "outputId": "89d90ca2-b1c2-4f7e-ebb4-19787d7fd720"
      },
      "execution_count": 91,
      "outputs": [
        {
          "output_type": "execute_result",
          "data": {
            "text/plain": [
              "array([20, 30, 40])"
            ]
          },
          "metadata": {},
          "execution_count": 91
        }
      ]
    },
    {
      "cell_type": "markdown",
      "source": [
        "\n",
        "71. For the given NumPy array, check its byte order using the `dtype` attribute byteorder."
      ],
      "metadata": {
        "id": "T6v8A_HKEH-N"
      }
    },
    {
      "cell_type": "code",
      "source": [
        "arr = np.array([1, 2, 3])\n",
        "\n",
        "# Check byte order\n",
        "byte_order = arr.dtype.byteorder\n",
        "\n",
        "print(\"Byte Order:\", byte_order)"
      ],
      "metadata": {
        "colab": {
          "base_uri": "https://localhost:8080/"
        },
        "id": "EKKMJc31EIIZ",
        "outputId": "f82af0f6-9023-48d9-9e2c-43bcd7acc51a"
      },
      "execution_count": 95,
      "outputs": [
        {
          "output_type": "stream",
          "name": "stdout",
          "text": [
            "Byte Order: =\n"
          ]
        }
      ]
    },
    {
      "cell_type": "markdown",
      "source": [
        "72. For the given NumPy array, perform byte swapping in place using `byteswap()`."
      ],
      "metadata": {
        "id": "FJED2k_GEISj"
      }
    },
    {
      "cell_type": "code",
      "source": [
        "# Perform byte swapping in place\n",
        "arr.byteswap(True)\n",
        "\n",
        "print(\"Byte swapped array:\", arr)"
      ],
      "metadata": {
        "colab": {
          "base_uri": "https://localhost:8080/"
        },
        "id": "pKu81OFHEIgh",
        "outputId": "c90489fa-b34d-4e57-b774-41b4c5b94e92"
      },
      "execution_count": 96,
      "outputs": [
        {
          "output_type": "stream",
          "name": "stdout",
          "text": [
            "Byte swapped array: [ 72057594037927936 144115188075855872 216172782113783808]\n"
          ]
        }
      ]
    },
    {
      "cell_type": "markdown",
      "source": [
        "\n",
        "73. For the given NumPy array, swap its byte order without modifying the original array using\n",
        "`newbyteorder()`."
      ],
      "metadata": {
        "id": "CJ8ToL5vGSjO"
      }
    },
    {
      "cell_type": "code",
      "source": [
        "# Swap byte order without modifying the original array\n",
        "arr_swapped = arr.newbyteorder()\n",
        "\n",
        "print(\"Original array:\", arr)\n",
        "print(\"Array with swapped byte order:\", arr_swapped)"
      ],
      "metadata": {
        "colab": {
          "base_uri": "https://localhost:8080/"
        },
        "id": "hKaL5MTEGSyK",
        "outputId": "68be70c8-3de0-4c4f-a2df-fe81e3e77569"
      },
      "execution_count": 97,
      "outputs": [
        {
          "output_type": "stream",
          "name": "stdout",
          "text": [
            "Original array: [ 72057594037927936 144115188075855872 216172782113783808]\n",
            "Array with swapped byte order: [1 2 3]\n"
          ]
        }
      ]
    },
    {
      "cell_type": "markdown",
      "source": [
        "74. For the given NumPy array and swap its byte order conditionally based on system endianness using\n",
        "`newbyteorder()`."
      ],
      "metadata": {
        "id": "rQtpEaIyGS-P"
      }
    },
    {
      "cell_type": "code",
      "source": [
        "import sys\n",
        "\n",
        "# Swap byte order conditionally based on system endianness\n",
        "if sys.byteorder == 'little':\n",
        "    arr_swapped = arr.newbyteorder('big')\n",
        "else:\n",
        "    arr_swapped = arr.newbyteorder('little')\n",
        "\n",
        "print(\"Original array:\", arr)\n",
        "print(\"Array with swapped byte order based on system endianness:\", arr_swapped)\n"
      ],
      "metadata": {
        "colab": {
          "base_uri": "https://localhost:8080/"
        },
        "id": "WW1_CLD-GTKD",
        "outputId": "c0650012-bfb3-4425-fb37-aefb087395dd"
      },
      "execution_count": 98,
      "outputs": [
        {
          "output_type": "stream",
          "name": "stdout",
          "text": [
            "Original array: [ 72057594037927936 144115188075855872 216172782113783808]\n",
            "Array with swapped byte order based on system endianness: [1 2 3]\n"
          ]
        }
      ]
    },
    {
      "cell_type": "markdown",
      "source": [
        "75. For the given NumPy array, check if byte swapping is necessary for the current system using `dtype` attribute `byteorder`."
      ],
      "metadata": {
        "id": "uIXp6KubGTVA"
      }
    },
    {
      "cell_type": "code",
      "source": [
        "# Check if byte swapping is necessary for the current system\n",
        "if arr.dtype.byteorder == sys.byteorder:\n",
        "    print(\"Byte swapping is not necessary for the current system.\")\n",
        "else:\n",
        "    print(\"Byte swapping is necessary for the current system.\")"
      ],
      "metadata": {
        "colab": {
          "base_uri": "https://localhost:8080/"
        },
        "id": "BI-omSMPGThG",
        "outputId": "d0334565-74ef-49ef-9964-208c82cdf51d"
      },
      "execution_count": 99,
      "outputs": [
        {
          "output_type": "stream",
          "name": "stdout",
          "text": [
            "Byte swapping is necessary for the current system.\n"
          ]
        }
      ]
    },
    {
      "cell_type": "markdown",
      "source": [
        "76. Create a NumPy array `arr1` with values from 1 to 10. Create a copy of `arr1` named `copy_arr` and modify\n",
        "an element in `copy_arr`. Check if modifying `copy_arr` affects `arr1`."
      ],
      "metadata": {
        "id": "leDjp46cGTsq"
      }
    },
    {
      "cell_type": "code",
      "source": [
        "# Create arr1 with values from 1 to 10\n",
        "arr1 = np.arange(1, 11)\n",
        "\n",
        "# Create a copy of arr1 named copy_arr\n",
        "copy_arr = arr1.copy()\n",
        "\n",
        "# Modify an element in copy_arr\n",
        "copy_arr[0] = 100\n",
        "\n",
        "# Check if modifying copy_arr affects arr1\n",
        "print(\"Original arr1:\", arr1)\n",
        "print(\"Modified copy_arr:\", copy_arr)"
      ],
      "metadata": {
        "colab": {
          "base_uri": "https://localhost:8080/"
        },
        "id": "gKlaZjjnGT3k",
        "outputId": "e063e1e8-baa5-4514-fbf6-aaf9326b2935"
      },
      "execution_count": 100,
      "outputs": [
        {
          "output_type": "stream",
          "name": "stdout",
          "text": [
            "Original arr1: [ 1  2  3  4  5  6  7  8  9 10]\n",
            "Modified copy_arr: [100   2   3   4   5   6   7   8   9  10]\n"
          ]
        }
      ]
    },
    {
      "cell_type": "markdown",
      "source": [
        "We can see heare that original array is not changed."
      ],
      "metadata": {
        "id": "FPP1s3SDIX_N"
      }
    },
    {
      "cell_type": "markdown",
      "source": [
        "77. Create a 2D NumPy array `matrix` of shape (3, 3) with random integers. Extract a slice `view_slice` from the matrix. Modify an element in `view_slice` and observe if it changes the original `matrix`."
      ],
      "metadata": {
        "id": "uS3dzlkqGUFQ"
      }
    },
    {
      "cell_type": "code",
      "source": [
        "matrix = np.random.randint(0, 100, size=(3, 3))\n",
        "\n",
        "# Extract a slice view from the matrix\n",
        "view_slice = matrix[:2, :2]\n",
        "\n",
        "# Print original matrix and the slice view\n",
        "print(\"Original Matrix:\")\n",
        "print(matrix)\n",
        "print(\"\\nSlice View:\")\n",
        "print(view_slice)\n",
        "\n",
        "# Modify an element in the slice view\n",
        "view_slice[0, 0] = 999\n",
        "\n",
        "# Print the modified slice view and the original matrix\n",
        "print(\"\\nModified Slice View:\")\n",
        "print(view_slice)\n",
        "print(\"\\nOriginal Matrix After Modification:\")\n",
        "print(matrix)"
      ],
      "metadata": {
        "colab": {
          "base_uri": "https://localhost:8080/"
        },
        "id": "bmc5b1d0GUR_",
        "outputId": "7e034e21-f93d-47e4-cb34-9283a207386c"
      },
      "execution_count": 101,
      "outputs": [
        {
          "output_type": "stream",
          "name": "stdout",
          "text": [
            "Original Matrix:\n",
            "[[24 30 37]\n",
            " [88 10 33]\n",
            " [79 88 62]]\n",
            "\n",
            "Slice View:\n",
            "[[24 30]\n",
            " [88 10]]\n",
            "\n",
            "Modified Slice View:\n",
            "[[999  30]\n",
            " [ 88  10]]\n",
            "\n",
            "Original Matrix After Modification:\n",
            "[[999  30  37]\n",
            " [ 88  10  33]\n",
            " [ 79  88  62]]\n"
          ]
        }
      ]
    },
    {
      "cell_type": "markdown",
      "source": [
        "we can see that it modifies original matrix."
      ],
      "metadata": {
        "id": "ppsgiJ7GGUeP"
      }
    },
    {
      "cell_type": "markdown",
      "source": [
        "78. Create a NumPy array `array_a` of shape (4, 3) with sequential integers from 1 to 12. Extract a slice `view_b` from `array_a` and broadcast the addition of 5 to view_b. Check if it alters the original `array_a`."
      ],
      "metadata": {
        "id": "8tfsTW0YJPmu"
      }
    },
    {
      "cell_type": "code",
      "source": [
        "import numpy as np\n",
        "\n",
        "# Create a NumPy array array_a of shape (4, 3) with sequential integers from 1 to 12\n",
        "array_a = np.arange(1, 13).reshape(4, 3)\n",
        "\n",
        "print(\"Original array_a before:\")\n",
        "print(array_a)\n",
        "\n",
        "# Extract a slice view view_b from array_a\n",
        "view_b = array_a[:2, :2]\n",
        "\n",
        "# Broadcast the addition of 5 to view_b\n",
        "view_b += 5\n",
        "\n",
        "# Check if it alters the original array_a\n",
        "print(\"Original array_a after:\")\n",
        "print(array_a)\n"
      ],
      "metadata": {
        "colab": {
          "base_uri": "https://localhost:8080/"
        },
        "id": "HnZToATUGUrH",
        "outputId": "fcf2d1df-ada5-4d79-b57c-353738682ef0"
      },
      "execution_count": 103,
      "outputs": [
        {
          "output_type": "stream",
          "name": "stdout",
          "text": [
            "Original array_a before:\n",
            "[[ 1  2  3]\n",
            " [ 4  5  6]\n",
            " [ 7  8  9]\n",
            " [10 11 12]]\n",
            "Original array_a after:\n",
            "[[ 6  7  3]\n",
            " [ 9 10  6]\n",
            " [ 7  8  9]\n",
            " [10 11 12]]\n"
          ]
        }
      ]
    },
    {
      "cell_type": "markdown",
      "source": [
        "It modified original array."
      ],
      "metadata": {
        "id": "-HtBNgYjKKJY"
      }
    },
    {
      "cell_type": "markdown",
      "source": [
        "\n",
        "79. Create a NumPy array `orig_array` of shape (2, 4) with values from 1 to 8. Create a reshaped view\n",
        "`reshaped_view` of shape (4, 2) from orig_array. Modify an element in `reshaped_view` and check if it\n",
        "reflects changes in the original `orig_array`.\n",
        "\n"
      ],
      "metadata": {
        "id": "fkmLNzGvGU3U"
      }
    },
    {
      "cell_type": "code",
      "source": [
        "# Create a NumPy array orig_array of shape (2, 4) with values from 1 to 8\n",
        "orig_array = np.arange(1, 9).reshape(2, 4)\n",
        "\n",
        "# Create a reshaped view reshaped_view of shape (4, 2) from orig_array\n",
        "reshaped_view = orig_array.reshape(4, 2)\n",
        "\n",
        "# Print original orig_array and the reshaped_view\n",
        "print(\"Original orig_array:\")\n",
        "print(orig_array)\n",
        "print(\"\\nReshaped View:\")\n",
        "print(reshaped_view)\n",
        "\n",
        "# Modify an element in reshaped_view\n",
        "reshaped_view[0, 0] = 100\n",
        "\n",
        "# Print the modified reshaped_view and the original orig_array\n",
        "print(\"\\nModified Reshaped View:\")\n",
        "print(reshaped_view)\n",
        "print(\"\\nOriginal orig_array After Modification:\")\n",
        "print(orig_array)"
      ],
      "metadata": {
        "colab": {
          "base_uri": "https://localhost:8080/"
        },
        "id": "8OLpajHDGVEZ",
        "outputId": "6241bf72-4851-4bbc-c44c-d871933affa9"
      },
      "execution_count": 104,
      "outputs": [
        {
          "output_type": "stream",
          "name": "stdout",
          "text": [
            "Original orig_array:\n",
            "[[1 2 3 4]\n",
            " [5 6 7 8]]\n",
            "\n",
            "Reshaped View:\n",
            "[[1 2]\n",
            " [3 4]\n",
            " [5 6]\n",
            " [7 8]]\n",
            "\n",
            "Modified Reshaped View:\n",
            "[[100   2]\n",
            " [  3   4]\n",
            " [  5   6]\n",
            " [  7   8]]\n",
            "\n",
            "Original orig_array After Modification:\n",
            "[[100   2   3   4]\n",
            " [  5   6   7   8]]\n"
          ]
        }
      ]
    },
    {
      "cell_type": "markdown",
      "source": [
        "It modifies original array"
      ],
      "metadata": {
        "id": "Y5IzGvZPGVZ9"
      }
    },
    {
      "cell_type": "markdown",
      "source": [
        "80. Create a NumPy array `data` of shape (3, 4) with random integers. Extract a copy `data_copy` of\n",
        "elements greater than 5. Modify an element in `data_copy` and verify if it affects the original `data`."
      ],
      "metadata": {
        "id": "JvDzGkvGYaeN"
      }
    },
    {
      "cell_type": "code",
      "source": [
        "# Create a NumPy array data of shape (3, 4) with random integers\n",
        "data = np.random.randint(0, 10, size=(3, 4))\n",
        "\n",
        "# Extract a copy data_copy of elements greater than 5\n",
        "data_copy = data[data > 5]\n",
        "\n",
        "# Print original data and the copy data_copy\n",
        "print(\"Original data:\")\n",
        "print(data)\n",
        "print(\"\\nCopy data_copy of elements greater than 5:\")\n",
        "print(data_copy)\n",
        "\n",
        "# Modify an element in data_copy\n",
        "data_copy[0] = 100\n",
        "\n",
        "# Verify if it affects the original data\n",
        "print(\"\\nModified data_copy:\")\n",
        "print(data_copy)\n",
        "print(\"\\nOriginal data After Modification:\")\n",
        "print(data)\n"
      ],
      "metadata": {
        "colab": {
          "base_uri": "https://localhost:8080/"
        },
        "id": "kHDBiPGtGVpI",
        "outputId": "96fcacb6-d2d0-4382-b94e-1641dee05bf7"
      },
      "execution_count": 108,
      "outputs": [
        {
          "output_type": "stream",
          "name": "stdout",
          "text": [
            "Original data:\n",
            "[[4 3 3 2]\n",
            " [8 6 0 6]\n",
            " [6 7 3 7]]\n",
            "\n",
            "Copy data_copy of elements greater than 5:\n",
            "[8 6 6 6 7 7]\n",
            "\n",
            "Modified data_copy:\n",
            "[100   6   6   6   7   7]\n",
            "\n",
            "Original data After Modification:\n",
            "[[4 3 3 2]\n",
            " [8 6 0 6]\n",
            " [6 7 3 7]]\n"
          ]
        }
      ]
    },
    {
      "cell_type": "markdown",
      "source": [
        "Original array is unchanged"
      ],
      "metadata": {
        "id": "kYtfOF2RYag6"
      }
    },
    {
      "cell_type": "markdown",
      "source": [
        "81. Create two matrices A and B of identical shape containing integers and perform addition and subtraction\n",
        "operations between them."
      ],
      "metadata": {
        "id": "F5VKLCmUYakE"
      }
    },
    {
      "cell_type": "code",
      "source": [
        "import numpy as np\n",
        "\n",
        "# Define the shape of the matrices\n",
        "shape = (3, 3)\n",
        "\n",
        "# Create matrix A with random integers\n",
        "A = np.random.randint(1, 10, size=shape)\n",
        "\n",
        "# Create matrix B with random integers\n",
        "B = np.random.randint(1, 10, size=shape)\n",
        "\n",
        "# Perform addition between matrices A and B\n",
        "addition_result = A + B\n",
        "\n",
        "# Perform subtraction between matrices A and B\n",
        "subtraction_result = A - B\n",
        "\n",
        "# Print the matrices and the results\n",
        "print(\"Matrix A:\")\n",
        "print(A)\n",
        "print(\"\\nMatrix B:\")\n",
        "print(B)\n",
        "print(\"\\nAddition result (A + B):\")\n",
        "print(addition_result)\n",
        "print(\"\\nSubtraction result (A - B):\")\n",
        "print(subtraction_result)"
      ],
      "metadata": {
        "colab": {
          "base_uri": "https://localhost:8080/"
        },
        "id": "-jICAEn8Ly7Z",
        "outputId": "d57e9367-b3a2-4ceb-9755-84e8efc48bf2"
      },
      "execution_count": 109,
      "outputs": [
        {
          "output_type": "stream",
          "name": "stdout",
          "text": [
            "Matrix A:\n",
            "[[4 4 9]\n",
            " [3 9 9]\n",
            " [6 7 9]]\n",
            "\n",
            "Matrix B:\n",
            "[[1 9 7]\n",
            " [9 5 2]\n",
            " [6 5 8]]\n",
            "\n",
            "Addition result (A + B):\n",
            "[[ 5 13 16]\n",
            " [12 14 11]\n",
            " [12 12 17]]\n",
            "\n",
            "Subtraction result (A - B):\n",
            "[[ 3 -5  2]\n",
            " [-6  4  7]\n",
            " [ 0  2  1]]\n"
          ]
        }
      ]
    },
    {
      "cell_type": "markdown",
      "source": [
        "82. Generate two matrices `C` (3x2) and `D` (2x4) and perform matrix multiplication."
      ],
      "metadata": {
        "id": "Ek1VIkVHYanH"
      }
    },
    {
      "cell_type": "code",
      "source": [
        "# Generate matrix C (3x2) with random integers\n",
        "C = np.random.randint(1, 10, size= (3,2))\n",
        "\n",
        "# Generate matrix D (2x4) with random integers\n",
        "D = np.random.randint(1, 10, size=(2,4))\n",
        "\n",
        "# Perform matrix multiplication between matrices C and D\n",
        "multiplication_result = np.dot(C, D) # C@D\n",
        "\n",
        "# Print the matrices and the result of the multiplication\n",
        "print(\"Matrix C (3x2):\")\n",
        "print(C)\n",
        "print(\"\\nMatrix D (2x4):\")\n",
        "print(D)\n",
        "print(\"\\nResult of matrix multiplication (C @ D):\")\n",
        "print(multiplication_result)"
      ],
      "metadata": {
        "colab": {
          "base_uri": "https://localhost:8080/"
        },
        "id": "B33uOqdRMBHq",
        "outputId": "f49933d6-3f49-4763-9cc8-da4c5878b1ce"
      },
      "execution_count": 112,
      "outputs": [
        {
          "output_type": "stream",
          "name": "stdout",
          "text": [
            "Matrix C (3x2):\n",
            "[[2 4]\n",
            " [3 3]\n",
            " [4 4]]\n",
            "\n",
            "Matrix D (2x4):\n",
            "[[6 1 5 8]\n",
            " [6 4 9 7]]\n",
            "\n",
            "Result of matrix multiplication (C @ D):\n",
            "[[36 18 46 44]\n",
            " [36 15 42 45]\n",
            " [48 20 56 60]]\n"
          ]
        }
      ]
    },
    {
      "cell_type": "markdown",
      "source": [
        "83. Create a matrix `E` and find its transpose."
      ],
      "metadata": {
        "id": "M-sa1i4sYap8"
      }
    },
    {
      "cell_type": "code",
      "source": [
        "E = np.array([[1, 2, 3],\n",
        "              [4, 5, 6],\n",
        "              [7, 8, 9]])\n",
        "\n",
        "E_transpose = np.transpose(E)\n",
        "\n",
        "print(\"Matrix E:\")\n",
        "print(E)\n",
        "print(\"\\nTranspose of matrix E:\")\n",
        "print(E_transpose)"
      ],
      "metadata": {
        "colab": {
          "base_uri": "https://localhost:8080/"
        },
        "id": "jvq0E275NAHu",
        "outputId": "a4526722-c83f-43ca-fb49-487c0ba541e6"
      },
      "execution_count": 114,
      "outputs": [
        {
          "output_type": "stream",
          "name": "stdout",
          "text": [
            "Matrix E:\n",
            "[[1 2 3]\n",
            " [4 5 6]\n",
            " [7 8 9]]\n",
            "\n",
            "Transpose of matrix E:\n",
            "[[1 4 7]\n",
            " [2 5 8]\n",
            " [3 6 9]]\n"
          ]
        }
      ]
    },
    {
      "cell_type": "markdown",
      "source": [
        "\n",
        "84. Generate a square matrix `F` and compute its determinant.\n"
      ],
      "metadata": {
        "id": "SKCDYdDgYas7"
      }
    },
    {
      "cell_type": "code",
      "source": [
        "# Generate a square matrix F (let's say 3x3) with random integers\n",
        "F = np.random.randint(1, 10, size=(3, 3))\n",
        "\n",
        "# Compute the determinant of matrix F\n",
        "determinant_F = np.linalg.det(F)\n",
        "\n",
        "# Print the matrix F and its determinant\n",
        "print(\"Matrix F:\")\n",
        "print(F)\n",
        "print(\"\\nDeterminant of matrix F: {:.2f}\".format(determinant_F))"
      ],
      "metadata": {
        "colab": {
          "base_uri": "https://localhost:8080/"
        },
        "id": "J6Dh0NYCNLwV",
        "outputId": "ec99086b-9c34-48fd-cb47-e2978e485efb"
      },
      "execution_count": 121,
      "outputs": [
        {
          "output_type": "stream",
          "name": "stdout",
          "text": [
            "Matrix F:\n",
            "[[3 9 1]\n",
            " [8 8 9]\n",
            " [9 9 7]]\n",
            "\n",
            "Determinant of matrix F: 150.00\n"
          ]
        }
      ]
    },
    {
      "cell_type": "markdown",
      "source": [
        "\n",
        "\n",
        "\n",
        "\n",
        "\n",
        "\n",
        "85. Create a square matrix `G` and find its inverse."
      ],
      "metadata": {
        "id": "BZgrqaPeYaXq"
      }
    },
    {
      "cell_type": "code",
      "source": [
        "# Generate a square matrix G (let's say 3x3) with random integers\n",
        "G = np.random.randint(1, 10, size=(3, 3))\n",
        "\n",
        "# Find the inverse of matrix G\n",
        "inverse_G = np.linalg.inv(G)\n",
        "\n",
        "# Print the matrix G and its inverse\n",
        "print(\"Matrix G:\")\n",
        "print(G)\n",
        "print(\"\\nInverse of matrix G:\")\n",
        "print(inverse_G)"
      ],
      "metadata": {
        "colab": {
          "base_uri": "https://localhost:8080/"
        },
        "id": "IfA8VFdcNMGL",
        "outputId": "59d45d01-502e-4db6-a290-40cd11d2a7f6"
      },
      "execution_count": 122,
      "outputs": [
        {
          "output_type": "stream",
          "name": "stdout",
          "text": [
            "Matrix G:\n",
            "[[7 8 3]\n",
            " [5 8 6]\n",
            " [8 5 3]]\n",
            "\n",
            "Inverse of matrix G:\n",
            "[[-0.05714286 -0.08571429  0.22857143]\n",
            " [ 0.31428571 -0.02857143 -0.25714286]\n",
            " [-0.37142857  0.27619048  0.15238095]]\n"
          ]
        }
      ]
    }
  ]
}